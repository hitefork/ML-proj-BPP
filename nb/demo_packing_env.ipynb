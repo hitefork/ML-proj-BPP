{
 "cells": [
  {
   "cell_type": "markdown",
   "metadata": {
    "collapsed": false,
    "pycharm": {
     "name": "#%% md\n"
    }
   },
   "source": [
    "# Demo for the Gym environment\n",
    "\n",
    "In this notebook we test the gym environment for the packing problem with a random agent."
   ]
  },
  {
   "cell_type": "code",
   "execution_count": 1,
   "metadata": {
    "collapsed": false,
    "pycharm": {
     "name": "#%%\n"
    }
   },
   "outputs": [],
   "source": [
    "# Add parent directory to path\n",
    "import os\n",
    "import sys\n",
    "\n",
    "p_dir = os.path.split(os.getcwd())[0]\n",
    "if p_dir not in sys.path:\n",
    "    sys.path.append(p_dir)"
   ]
  },
  {
   "cell_type": "code",
   "execution_count": 2,
   "metadata": {
    "collapsed": false,
    "pycharm": {
     "name": "#%%\n"
    }
   },
   "outputs": [
    {
     "ename": "ModuleNotFoundError",
     "evalue": "No module named 'utils'",
     "output_type": "error",
     "traceback": [
      "\u001b[1;31m---------------------------------------------------------------------------\u001b[0m",
      "\u001b[1;31mModuleNotFoundError\u001b[0m                       Traceback (most recent call last)",
      "Cell \u001b[1;32mIn[2], line 2\u001b[0m\n\u001b[0;32m      1\u001b[0m \u001b[38;5;66;03m# Create the environment\u001b[39;00m\n\u001b[1;32m----> 2\u001b[0m \u001b[38;5;28;01mfrom\u001b[39;00m \u001b[38;5;21;01msrc\u001b[39;00m\u001b[38;5;21;01m.\u001b[39;00m\u001b[38;5;21;01mutils\u001b[39;00m \u001b[38;5;28;01mimport\u001b[39;00m boxes_generator\n\u001b[0;32m      3\u001b[0m \u001b[38;5;28;01mfrom\u001b[39;00m \u001b[38;5;21;01mgym\u001b[39;00m \u001b[38;5;28;01mimport\u001b[39;00m make\n\u001b[0;32m      4\u001b[0m \u001b[38;5;28;01mimport\u001b[39;00m \u001b[38;5;21;01mwarnings\u001b[39;00m\n",
      "File \u001b[1;32md:\\作业\\大三上\\机器学习\\ML-proj-BPP\\src\\__init__.py:2\u001b[0m\n\u001b[0;32m      1\u001b[0m \u001b[38;5;28;01mfrom\u001b[39;00m \u001b[38;5;21;01mgym\u001b[39;00m\u001b[38;5;21;01m.\u001b[39;00m\u001b[38;5;21;01menvs\u001b[39;00m\u001b[38;5;21;01m.\u001b[39;00m\u001b[38;5;21;01mregistration\u001b[39;00m \u001b[38;5;28;01mimport\u001b[39;00m register\n\u001b[1;32m----> 2\u001b[0m \u001b[38;5;28;01mfrom\u001b[39;00m \u001b[38;5;21;01m.\u001b[39;00m \u001b[38;5;28;01mimport\u001b[39;00m packing_kernel, packing_env, utils\n\u001b[0;32m      4\u001b[0m register(\u001b[38;5;28mid\u001b[39m\u001b[38;5;241m=\u001b[39m\u001b[38;5;124m\"\u001b[39m\u001b[38;5;124mPackingEnv-v0\u001b[39m\u001b[38;5;124m\"\u001b[39m, entry_point\u001b[38;5;241m=\u001b[39m\u001b[38;5;124m\"\u001b[39m\u001b[38;5;124msrc.packing_env:PackingEnv\u001b[39m\u001b[38;5;124m\"\u001b[39m)\n",
      "File \u001b[1;32md:\\作业\\大三上\\机器学习\\ML-proj-BPP\\src\\packing_kernel.py:30\u001b[0m\n\u001b[0;32m     27\u001b[0m \u001b[38;5;28;01mimport\u001b[39;00m \u001b[38;5;21;01mplotly\u001b[39;00m\u001b[38;5;21;01m.\u001b[39;00m\u001b[38;5;21;01mgraph_objects\u001b[39;00m \u001b[38;5;28;01mas\u001b[39;00m \u001b[38;5;21;01mgo\u001b[39;00m\n\u001b[0;32m     28\u001b[0m \u001b[38;5;28;01mfrom\u001b[39;00m \u001b[38;5;21;01mnptyping\u001b[39;00m \u001b[38;5;28;01mimport\u001b[39;00m NDArray, Int, Shape\n\u001b[1;32m---> 30\u001b[0m \u001b[38;5;28;01mfrom\u001b[39;00m \u001b[38;5;21;01mutils\u001b[39;00m \u001b[38;5;28;01mimport\u001b[39;00m (\n\u001b[0;32m     31\u001b[0m     generate_vertices,\n\u001b[0;32m     32\u001b[0m     boxes_generator,\n\u001b[0;32m     33\u001b[0m     cuboids_intersection,\n\u001b[0;32m     34\u001b[0m     cuboid_fits,\n\u001b[0;32m     35\u001b[0m )\n\u001b[0;32m     38\u001b[0m \u001b[38;5;28;01mclass\u001b[39;00m \u001b[38;5;21;01mBox\u001b[39;00m:\n\u001b[0;32m     39\u001b[0m \u001b[38;5;250m    \u001b[39m\u001b[38;5;124;03m\"\"\"A class to represent a 3D box\u001b[39;00m\n\u001b[0;32m     40\u001b[0m \n\u001b[0;32m     41\u001b[0m \u001b[38;5;124;03m    Attributes\u001b[39;00m\n\u001b[1;32m   (...)\u001b[0m\n\u001b[0;32m     48\u001b[0m \u001b[38;5;124;03m           Lengths of the edges of the box\u001b[39;00m\n\u001b[0;32m     49\u001b[0m \u001b[38;5;124;03m    \"\"\"\u001b[39;00m\n",
      "\u001b[1;31mModuleNotFoundError\u001b[0m: No module named 'utils'"
     ]
    }
   ],
   "source": [
    "# Create the environment\n",
    "from src.utils import boxes_generator\n",
    "from gym import make\n",
    "import warnings\n",
    "\n",
    "#Ignore plotly and gym deprecation warnings\n",
    "warnings.filterwarnings(\"ignore\", category=DeprecationWarning)"
   ]
  },
  {
   "cell_type": "code",
   "execution_count": 13,
   "metadata": {
    "collapsed": false,
    "pycharm": {
     "name": "#%%\n"
    }
   },
   "outputs": [
    {
     "name": "stderr",
     "output_type": "stream",
     "text": [
      "  Image 1 captured. (elapsed time: 0.0 min; 4 sec)\n",
      "  Image 2 captured. (elapsed time: 0.0 min; 9 sec)\n",
      "  Image 3 captured. (elapsed time: 0.0 min; 16 sec)\n",
      "  Image 4 captured. (elapsed time: 0.0 min; 22 sec)\n",
      "  Image 5 captured. (elapsed time: 0.0 min; 30 sec)\n",
      "  Image 6 captured. (elapsed time: 0.0 min; 36 sec)\n",
      "  Image 7 captured. (elapsed time: 0.0 min; 41 sec)\n",
      "  Image 8 captured. (elapsed time: 0.0 min; 51 sec)\n",
      "  Image 9 captured. (elapsed time: 0.0 min; 58 sec)\n",
      "  Image 10 captured. (elapsed time: 1.0 min; 3 sec)\n",
      "  Image 11 captured. (elapsed time: 1.0 min; 7 sec)\n",
      "  Image 12 captured. (elapsed time: 1.0 min; 12 sec)\n",
      "  Image 13 captured. (elapsed time: 1.0 min; 16 sec)\n",
      "  Image 14 captured. (elapsed time: 1.0 min; 21 sec)\n",
      "  Image 15 captured. (elapsed time: 1.0 min; 28 sec)\n",
      "  Image 16 captured. (elapsed time: 1.0 min; 34 sec)\n",
      "  Image 17 captured. (elapsed time: 1.0 min; 41 sec)\n",
      "  Image 18 captured. (elapsed time: 1.0 min; 46 sec)\n",
      "  Image 19 captured. (elapsed time: 1.0 min; 50 sec)\n",
      "  Image 20 captured. (elapsed time: 1.0 min; 54 sec)\n",
      "  Image 21 captured. (elapsed time: 1.0 min; 58 sec)\n",
      "  Image 22 captured. (elapsed time: 2.0 min; 2 sec)\n",
      "  Image 23 captured. (elapsed time: 2.0 min; 6 sec)\n",
      "  Image 24 captured. (elapsed time: 2.0 min; 10 sec)\n",
      "  Image 25 captured. (elapsed time: 2.0 min; 13 sec)\n",
      "  Image 26 captured. (elapsed time: 2.0 min; 17 sec)\n",
      "  Image 27 captured. (elapsed time: 2.0 min; 21 sec)\n",
      "  Image 28 captured. (elapsed time: 2.0 min; 25 sec)\n",
      "  Image 29 captured. (elapsed time: 2.0 min; 29 sec)\n",
      "  Image 30 captured. (elapsed time: 2.0 min; 33 sec)\n",
      "  Image 31 captured. (elapsed time: 2.0 min; 37 sec)\n",
      "  Image 32 captured. (elapsed time: 2.0 min; 41 sec)\n",
      "  Image 33 captured. (elapsed time: 2.0 min; 46 sec)\n",
      "  Image 34 captured. (elapsed time: 2.0 min; 50 sec)\n",
      "  Image 35 captured. (elapsed time: 2.0 min; 55 sec)\n",
      "  Image 36 captured. (elapsed time: 2.0 min; 59 sec)\n",
      "  Image 37 captured. (elapsed time: 3.0 min; 5 sec)\n",
      "  Image 38 captured. (elapsed time: 3.0 min; 10 sec)\n",
      "  Image 39 captured. (elapsed time: 3.0 min; 15 sec)\n",
      "  Image 40 captured. (elapsed time: 3.0 min; 20 sec)\n",
      "  Image 41 captured. (elapsed time: 3.0 min; 26 sec)\n",
      "  Image 42 captured. (elapsed time: 3.0 min; 30 sec)\n",
      "  Image 43 captured. (elapsed time: 3.0 min; 34 sec)\n",
      "  Image 44 captured. (elapsed time: 3.0 min; 39 sec)\n",
      "  Image 45 captured. (elapsed time: 3.0 min; 57 sec)\n",
      "  Image 46 captured. (elapsed time: 4.0 min; 18 sec)\n",
      "  Image 47 captured. (elapsed time: 4.0 min; 32 sec)\n",
      "  Image 48 captured. (elapsed time: 4.0 min; 39 sec)\n",
      "  Image 49 captured. (elapsed time: 4.0 min; 45 sec)\n",
      "  Image 50 captured. (elapsed time: 4.0 min; 50 sec)\n",
      "  Image 51 captured. (elapsed time: 4.0 min; 54 sec)\n",
      "  Image 52 captured. (elapsed time: 5.0 min; 0 sec)\n",
      "  Image 53 captured. (elapsed time: 5.0 min; 5 sec)\n",
      "  Image 54 captured. (elapsed time: 5.0 min; 11 sec)\n",
      "  Image 55 captured. (elapsed time: 5.0 min; 16 sec)\n",
      "  Image 56 captured. (elapsed time: 5.0 min; 31 sec)\n",
      "  Image 57 captured. (elapsed time: 5.0 min; 38 sec)\n",
      "  Image 58 captured. (elapsed time: 5.0 min; 45 sec)\n",
      "  Image 59 captured. (elapsed time: 5.0 min; 51 sec)\n",
      "  Image 60 captured. (elapsed time: 5.0 min; 57 sec)\n",
      "  Image 61 captured. (elapsed time: 6.0 min; 9 sec)\n",
      "  Image 62 captured. (elapsed time: 6.0 min; 26 sec)\n",
      "  Image 63 captured. (elapsed time: 6.0 min; 35 sec)\n",
      "  Image 64 captured. (elapsed time: 6.0 min; 44 sec)\n",
      "  gif created: ../gifs/random_rollout2.gif (time to generate gif: 0.0 min; 9 sec)\n"
     ]
    }
   ],
   "source": [
    "from plotly_gif import GIF\n",
    "\n",
    "gif = GIF(gif_name=\"random_rollout2.gif\", gif_path=\"../gifs\")\n",
    "\n",
    "#Environment initialization\n",
    "env = make(\n",
    "        \"PackingEnv-v0\",\n",
    "        container_size=[10, 10, 10],\n",
    "        box_sizes=boxes_generator([10, 10, 10], 64, 42),\n",
    "        num_visible_boxes=1,\n",
    "    )\n",
    "obs = env.reset()\n",
    "\n",
    "# Rollout of random actions\n",
    "for step_num in range(80):\n",
    "    fig = env.render()\n",
    "    gif.create_image(fig)\n",
    "    action_mask = obs['action_mask']\n",
    "\n",
    "    action = env.action_space.sample(action_mask)\n",
    "    obs, reward, done, info = env.step(action)\n",
    "    if done:\n",
    "        break\n",
    "\n",
    "gif.create_gif(length=5000)\n",
    "fig = env.container.plot()\n",
    "fig.show()\n"
   ]
  },
  {
   "cell_type": "code",
   "execution_count": 9,
   "metadata": {
    "collapsed": false,
    "pycharm": {
     "name": "#%%\n"
    }
   },
   "outputs": [
    {
     "data": {
      "application/vnd.plotly.v1+json": {
       "config": {
        "plotlyServerURL": "https://plot.ly"
       },
       "data": [
        {
         "line": {
          "color": "yellow",
          "width": 3
         },
         "mode": "lines",
         "type": "scatter3d",
         "x": [
          0,
          11
         ],
         "y": [
          0,
          0
         ],
         "z": [
          0,
          0
         ]
        },
        {
         "line": {
          "color": "yellow",
          "width": 3
         },
         "mode": "lines",
         "type": "scatter3d",
         "x": [
          0,
          0
         ],
         "y": [
          0,
          11
         ],
         "z": [
          0,
          0
         ]
        },
        {
         "line": {
          "color": "yellow",
          "width": 3
         },
         "mode": "lines",
         "type": "scatter3d",
         "x": [
          0,
          0
         ],
         "y": [
          0,
          0
         ],
         "z": [
          0,
          11
         ]
        },
        {
         "line": {
          "color": "yellow",
          "width": 3
         },
         "mode": "lines",
         "type": "scatter3d",
         "x": [
          11,
          11
         ],
         "y": [
          0,
          11
         ],
         "z": [
          0,
          0
         ]
        },
        {
         "line": {
          "color": "yellow",
          "width": 3
         },
         "mode": "lines",
         "type": "scatter3d",
         "x": [
          11,
          11
         ],
         "y": [
          0,
          0
         ],
         "z": [
          0,
          11
         ]
        },
        {
         "line": {
          "color": "yellow",
          "width": 3
         },
         "mode": "lines",
         "type": "scatter3d",
         "x": [
          0,
          11
         ],
         "y": [
          11,
          11
         ],
         "z": [
          0,
          0
         ]
        },
        {
         "line": {
          "color": "yellow",
          "width": 3
         },
         "mode": "lines",
         "type": "scatter3d",
         "x": [
          0,
          0
         ],
         "y": [
          11,
          11
         ],
         "z": [
          0,
          11
         ]
        },
        {
         "line": {
          "color": "yellow",
          "width": 3
         },
         "mode": "lines",
         "type": "scatter3d",
         "x": [
          11,
          11
         ],
         "y": [
          11,
          11
         ],
         "z": [
          0,
          11
         ]
        },
        {
         "line": {
          "color": "yellow",
          "width": 3
         },
         "mode": "lines",
         "type": "scatter3d",
         "x": [
          0,
          11
         ],
         "y": [
          0,
          0
         ],
         "z": [
          11,
          11
         ]
        },
        {
         "line": {
          "color": "yellow",
          "width": 3
         },
         "mode": "lines",
         "type": "scatter3d",
         "x": [
          0,
          0
         ],
         "y": [
          0,
          11
         ],
         "z": [
          11,
          11
         ]
        },
        {
         "line": {
          "color": "yellow",
          "width": 3
         },
         "mode": "lines",
         "type": "scatter3d",
         "x": [
          11,
          11
         ],
         "y": [
          0,
          11
         ],
         "z": [
          11,
          11
         ]
        },
        {
         "line": {
          "color": "yellow",
          "width": 3
         },
         "mode": "lines",
         "type": "scatter3d",
         "x": [
          0,
          11
         ],
         "y": [
          11,
          11
         ],
         "z": [
          11,
          11
         ]
        },
        {
         "color": "#FC0080",
         "flatshading": true,
         "i": [
          1,
          2,
          5,
          6,
          1,
          4,
          3,
          6,
          1,
          7,
          0,
          6
         ],
         "j": [
          0,
          3,
          4,
          7,
          0,
          5,
          2,
          7,
          3,
          5,
          2,
          4
         ],
         "k": [
          2,
          1,
          6,
          5,
          4,
          1,
          6,
          3,
          7,
          1,
          6,
          0
         ],
         "opacity": 1,
         "type": "mesh3d",
         "x": [
          1,
          5,
          1,
          5,
          1,
          5,
          1,
          5
         ],
         "y": [
          0,
          0,
          3,
          3,
          0,
          0,
          3,
          3
         ],
         "z": [
          0,
          0,
          0,
          0,
          3,
          3,
          3,
          3
         ]
        },
        {
         "line": {
          "color": "black",
          "width": 0
         },
         "mode": "lines",
         "type": "scatter3d",
         "x": [
          1,
          5
         ],
         "y": [
          3,
          3
         ],
         "z": [
          3,
          3
         ]
        },
        {
         "color": "#511CFB",
         "flatshading": true,
         "i": [
          1,
          2,
          5,
          6,
          1,
          4,
          3,
          6,
          1,
          7,
          0,
          6
         ],
         "j": [
          0,
          3,
          4,
          7,
          0,
          5,
          2,
          7,
          3,
          5,
          2,
          4
         ],
         "k": [
          2,
          1,
          6,
          5,
          4,
          1,
          6,
          3,
          7,
          1,
          6,
          0
         ],
         "opacity": 1,
         "type": "mesh3d",
         "x": [
          9,
          11,
          9,
          11,
          9,
          11,
          9,
          11
         ],
         "y": [
          1,
          1,
          5,
          5,
          1,
          1,
          5,
          5
         ],
         "z": [
          0,
          0,
          0,
          0,
          4,
          4,
          4,
          4
         ]
        },
        {
         "line": {
          "color": "black",
          "width": 0
         },
         "mode": "lines",
         "type": "scatter3d",
         "x": [
          9,
          11
         ],
         "y": [
          5,
          5
         ],
         "z": [
          4,
          4
         ]
        },
        {
         "color": "#A777F1",
         "flatshading": true,
         "i": [
          1,
          2,
          5,
          6,
          1,
          4,
          3,
          6,
          1,
          7,
          0,
          6
         ],
         "j": [
          0,
          3,
          4,
          7,
          0,
          5,
          2,
          7,
          3,
          5,
          2,
          4
         ],
         "k": [
          2,
          1,
          6,
          5,
          4,
          1,
          6,
          3,
          7,
          1,
          6,
          0
         ],
         "opacity": 1,
         "type": "mesh3d",
         "x": [
          2,
          3,
          2,
          3,
          2,
          3,
          2,
          3
         ],
         "y": [
          3,
          3,
          8,
          8,
          3,
          3,
          8,
          8
         ],
         "z": [
          0,
          0,
          0,
          0,
          3,
          3,
          3,
          3
         ]
        },
        {
         "line": {
          "color": "black",
          "width": 0
         },
         "mode": "lines",
         "type": "scatter3d",
         "x": [
          2,
          3
         ],
         "y": [
          8,
          8
         ],
         "z": [
          3,
          3
         ]
        },
        {
         "color": "#B2828D",
         "flatshading": true,
         "i": [
          1,
          2,
          5,
          6,
          1,
          4,
          3,
          6,
          1,
          7,
          0,
          6
         ],
         "j": [
          0,
          3,
          4,
          7,
          0,
          5,
          2,
          7,
          3,
          5,
          2,
          4
         ],
         "k": [
          2,
          1,
          6,
          5,
          4,
          1,
          6,
          3,
          7,
          1,
          6,
          0
         ],
         "opacity": 1,
         "type": "mesh3d",
         "x": [
          5,
          6,
          5,
          6,
          5,
          6,
          5,
          6
         ],
         "y": [
          5,
          5,
          10,
          10,
          5,
          5,
          10,
          10
         ],
         "z": [
          0,
          0,
          0,
          0,
          2,
          2,
          2,
          2
         ]
        },
        {
         "line": {
          "color": "black",
          "width": 0
         },
         "mode": "lines",
         "type": "scatter3d",
         "x": [
          5,
          6
         ],
         "y": [
          10,
          10
         ],
         "z": [
          2,
          2
         ]
        },
        {
         "color": "#511CFB",
         "flatshading": true,
         "i": [
          1,
          2,
          5,
          6,
          1,
          4,
          3,
          6,
          1,
          7,
          0,
          6
         ],
         "j": [
          0,
          3,
          4,
          7,
          0,
          5,
          2,
          7,
          3,
          5,
          2,
          4
         ],
         "k": [
          2,
          1,
          6,
          5,
          4,
          1,
          6,
          3,
          7,
          1,
          6,
          0
         ],
         "opacity": 1,
         "type": "mesh3d",
         "x": [
          0,
          1,
          0,
          1,
          0,
          1,
          0,
          1
         ],
         "y": [
          5,
          5,
          10,
          10,
          5,
          5,
          10,
          10
         ],
         "z": [
          0,
          0,
          0,
          0,
          1,
          1,
          1,
          1
         ]
        },
        {
         "line": {
          "color": "black",
          "width": 0
         },
         "mode": "lines",
         "type": "scatter3d",
         "x": [
          0,
          1
         ],
         "y": [
          10,
          10
         ],
         "z": [
          1,
          1
         ]
        },
        {
         "color": "#DA60CA",
         "flatshading": true,
         "i": [
          1,
          2,
          5,
          6,
          1,
          4,
          3,
          6,
          1,
          7,
          0,
          6
         ],
         "j": [
          0,
          3,
          4,
          7,
          0,
          5,
          2,
          7,
          3,
          5,
          2,
          4
         ],
         "k": [
          2,
          1,
          6,
          5,
          4,
          1,
          6,
          3,
          7,
          1,
          6,
          0
         ],
         "opacity": 1,
         "type": "mesh3d",
         "x": [
          7,
          8,
          7,
          8,
          7,
          8,
          7,
          8
         ],
         "y": [
          3,
          3,
          8,
          8,
          3,
          3,
          8,
          8
         ],
         "z": [
          0,
          0,
          0,
          0,
          3,
          3,
          3,
          3
         ]
        },
        {
         "line": {
          "color": "black",
          "width": 0
         },
         "mode": "lines",
         "type": "scatter3d",
         "x": [
          7,
          8
         ],
         "y": [
          8,
          8
         ],
         "z": [
          3,
          3
         ]
        },
        {
         "color": "#511CFB",
         "flatshading": true,
         "i": [
          1,
          2,
          5,
          6,
          1,
          4,
          3,
          6,
          1,
          7,
          0,
          6
         ],
         "j": [
          0,
          3,
          4,
          7,
          0,
          5,
          2,
          7,
          3,
          5,
          2,
          4
         ],
         "k": [
          2,
          1,
          6,
          5,
          4,
          1,
          6,
          3,
          7,
          1,
          6,
          0
         ],
         "opacity": 1,
         "type": "mesh3d",
         "x": [
          1,
          2,
          1,
          2,
          1,
          2,
          1,
          2
         ],
         "y": [
          7,
          7,
          9,
          9,
          7,
          7,
          9,
          9
         ],
         "z": [
          0,
          0,
          0,
          0,
          1,
          1,
          1,
          1
         ]
        },
        {
         "line": {
          "color": "black",
          "width": 0
         },
         "mode": "lines",
         "type": "scatter3d",
         "x": [
          1,
          2
         ],
         "y": [
          9,
          9
         ],
         "z": [
          1,
          1
         ]
        },
        {
         "color": "#862A16",
         "flatshading": true,
         "i": [
          1,
          2,
          5,
          6,
          1,
          4,
          3,
          6,
          1,
          7,
          0,
          6
         ],
         "j": [
          0,
          3,
          4,
          7,
          0,
          5,
          2,
          7,
          3,
          5,
          2,
          4
         ],
         "k": [
          2,
          1,
          6,
          5,
          4,
          1,
          6,
          3,
          7,
          1,
          6,
          0
         ],
         "opacity": 1,
         "type": "mesh3d",
         "x": [
          6,
          10,
          6,
          10,
          6,
          10,
          6,
          10
         ],
         "y": [
          10,
          10,
          11,
          11,
          10,
          10,
          11,
          11
         ],
         "z": [
          0,
          0,
          0,
          0,
          2,
          2,
          2,
          2
         ]
        },
        {
         "line": {
          "color": "black",
          "width": 0
         },
         "mode": "lines",
         "type": "scatter3d",
         "x": [
          6,
          10
         ],
         "y": [
          11,
          11
         ],
         "z": [
          2,
          2
         ]
        },
        {
         "color": "#222A2A",
         "flatshading": true,
         "i": [
          1,
          2,
          5,
          6,
          1,
          4,
          3,
          6,
          1,
          7,
          0,
          6
         ],
         "j": [
          0,
          3,
          4,
          7,
          0,
          5,
          2,
          7,
          3,
          5,
          2,
          4
         ],
         "k": [
          2,
          1,
          6,
          5,
          4,
          1,
          6,
          3,
          7,
          1,
          6,
          0
         ],
         "opacity": 1,
         "type": "mesh3d",
         "x": [
          9,
          10,
          9,
          10,
          9,
          10,
          9,
          10
         ],
         "y": [
          1,
          1,
          5,
          5,
          1,
          1,
          5,
          5
         ],
         "z": [
          4,
          4,
          4,
          4,
          9,
          9,
          9,
          9
         ]
        },
        {
         "line": {
          "color": "black",
          "width": 0
         },
         "mode": "lines",
         "type": "scatter3d",
         "x": [
          9,
          10
         ],
         "y": [
          5,
          5
         ],
         "z": [
          9,
          9
         ]
        },
        {
         "color": "#B68100",
         "flatshading": true,
         "i": [
          1,
          2,
          5,
          6,
          1,
          4,
          3,
          6,
          1,
          7,
          0,
          6
         ],
         "j": [
          0,
          3,
          4,
          7,
          0,
          5,
          2,
          7,
          3,
          5,
          2,
          4
         ],
         "k": [
          2,
          1,
          6,
          5,
          4,
          1,
          6,
          3,
          7,
          1,
          6,
          0
         ],
         "opacity": 1,
         "type": "mesh3d",
         "x": [
          6,
          7,
          6,
          7,
          6,
          7,
          6,
          7
         ],
         "y": [
          5,
          5,
          9,
          9,
          5,
          5,
          9,
          9
         ],
         "z": [
          0,
          0,
          0,
          0,
          5,
          5,
          5,
          5
         ]
        },
        {
         "line": {
          "color": "black",
          "width": 0
         },
         "mode": "lines",
         "type": "scatter3d",
         "x": [
          6,
          7
         ],
         "y": [
          9,
          9
         ],
         "z": [
          5,
          5
         ]
        },
        {
         "color": "#862A16",
         "flatshading": true,
         "i": [
          1,
          2,
          5,
          6,
          1,
          4,
          3,
          6,
          1,
          7,
          0,
          6
         ],
         "j": [
          0,
          3,
          4,
          7,
          0,
          5,
          2,
          7,
          3,
          5,
          2,
          4
         ],
         "k": [
          2,
          1,
          6,
          5,
          4,
          1,
          6,
          3,
          7,
          1,
          6,
          0
         ],
         "opacity": 1,
         "type": "mesh3d",
         "x": [
          2,
          4,
          2,
          4,
          2,
          4,
          2,
          4
         ],
         "y": [
          0,
          0,
          2,
          2,
          0,
          0,
          2,
          2
         ],
         "z": [
          3,
          3,
          3,
          3,
          4,
          4,
          4,
          4
         ]
        },
        {
         "line": {
          "color": "black",
          "width": 0
         },
         "mode": "lines",
         "type": "scatter3d",
         "x": [
          2,
          4
         ],
         "y": [
          2,
          2
         ],
         "z": [
          4,
          4
         ]
        },
        {
         "color": "#6C4516",
         "flatshading": true,
         "i": [
          1,
          2,
          5,
          6,
          1,
          4,
          3,
          6,
          1,
          7,
          0,
          6
         ],
         "j": [
          0,
          3,
          4,
          7,
          0,
          5,
          2,
          7,
          3,
          5,
          2,
          4
         ],
         "k": [
          2,
          1,
          6,
          5,
          4,
          1,
          6,
          3,
          7,
          1,
          6,
          0
         ],
         "opacity": 1,
         "type": "mesh3d",
         "x": [
          8,
          9,
          8,
          9,
          8,
          9,
          8,
          9
         ],
         "y": [
          1,
          1,
          9,
          9,
          1,
          1,
          9,
          9
         ],
         "z": [
          0,
          0,
          0,
          0,
          1,
          1,
          1,
          1
         ]
        },
        {
         "line": {
          "color": "black",
          "width": 0
         },
         "mode": "lines",
         "type": "scatter3d",
         "x": [
          8,
          9
         ],
         "y": [
          9,
          9
         ],
         "z": [
          1,
          1
         ]
        },
        {
         "color": "#0D2A63",
         "flatshading": true,
         "i": [
          1,
          2,
          5,
          6,
          1,
          4,
          3,
          6,
          1,
          7,
          0,
          6
         ],
         "j": [
          0,
          3,
          4,
          7,
          0,
          5,
          2,
          7,
          3,
          5,
          2,
          4
         ],
         "k": [
          2,
          1,
          6,
          5,
          4,
          1,
          6,
          3,
          7,
          1,
          6,
          0
         ],
         "opacity": 1,
         "type": "mesh3d",
         "x": [
          8,
          9,
          8,
          9,
          8,
          9,
          8,
          9
         ],
         "y": [
          1,
          1,
          9,
          9,
          1,
          1,
          9,
          9
         ],
         "z": [
          1,
          1,
          1,
          1,
          2,
          2,
          2,
          2
         ]
        },
        {
         "line": {
          "color": "black",
          "width": 0
         },
         "mode": "lines",
         "type": "scatter3d",
         "x": [
          8,
          9
         ],
         "y": [
          9,
          9
         ],
         "z": [
          2,
          2
         ]
        },
        {
         "color": "#0D2A63",
         "flatshading": true,
         "i": [
          1,
          2,
          5,
          6,
          1,
          4,
          3,
          6,
          1,
          7,
          0,
          6
         ],
         "j": [
          0,
          3,
          4,
          7,
          0,
          5,
          2,
          7,
          3,
          5,
          2,
          4
         ],
         "k": [
          2,
          1,
          6,
          5,
          4,
          1,
          6,
          3,
          7,
          1,
          6,
          0
         ],
         "opacity": 1,
         "type": "mesh3d",
         "x": [
          9,
          10,
          9,
          10,
          9,
          10,
          9,
          10
         ],
         "y": [
          2,
          2,
          5,
          5,
          2,
          2,
          5,
          5
         ],
         "z": [
          9,
          9,
          9,
          9,
          11,
          11,
          11,
          11
         ]
        },
        {
         "line": {
          "color": "black",
          "width": 0
         },
         "mode": "lines",
         "type": "scatter3d",
         "x": [
          9,
          10
         ],
         "y": [
          5,
          5
         ],
         "z": [
          11,
          11
         ]
        },
        {
         "color": "#511CFB",
         "flatshading": true,
         "i": [
          1,
          2,
          5,
          6,
          1,
          4,
          3,
          6,
          1,
          7,
          0,
          6
         ],
         "j": [
          0,
          3,
          4,
          7,
          0,
          5,
          2,
          7,
          3,
          5,
          2,
          4
         ],
         "k": [
          2,
          1,
          6,
          5,
          4,
          1,
          6,
          3,
          7,
          1,
          6,
          0
         ],
         "opacity": 1,
         "type": "mesh3d",
         "x": [
          6,
          7,
          6,
          7,
          6,
          7,
          6,
          7
         ],
         "y": [
          5,
          5,
          9,
          9,
          5,
          5,
          9,
          9
         ],
         "z": [
          5,
          5,
          5,
          5,
          9,
          9,
          9,
          9
         ]
        },
        {
         "line": {
          "color": "black",
          "width": 0
         },
         "mode": "lines",
         "type": "scatter3d",
         "x": [
          6,
          7
         ],
         "y": [
          9,
          9
         ],
         "z": [
          9,
          9
         ]
        },
        {
         "color": "#AF0038",
         "flatshading": true,
         "i": [
          1,
          2,
          5,
          6,
          1,
          4,
          3,
          6,
          1,
          7,
          0,
          6
         ],
         "j": [
          0,
          3,
          4,
          7,
          0,
          5,
          2,
          7,
          3,
          5,
          2,
          4
         ],
         "k": [
          2,
          1,
          6,
          5,
          4,
          1,
          6,
          3,
          7,
          1,
          6,
          0
         ],
         "opacity": 1,
         "type": "mesh3d",
         "x": [
          5,
          6,
          5,
          6,
          5,
          6,
          5,
          6
         ],
         "y": [
          3,
          3,
          4,
          4,
          3,
          3,
          4,
          4
         ],
         "z": [
          0,
          0,
          0,
          0,
          5,
          5,
          5,
          5
         ]
        },
        {
         "line": {
          "color": "black",
          "width": 0
         },
         "mode": "lines",
         "type": "scatter3d",
         "x": [
          5,
          6
         ],
         "y": [
          4,
          4
         ],
         "z": [
          5,
          5
         ]
        },
        {
         "color": "#B68100",
         "flatshading": true,
         "i": [
          1,
          2,
          5,
          6,
          1,
          4,
          3,
          6,
          1,
          7,
          0,
          6
         ],
         "j": [
          0,
          3,
          4,
          7,
          0,
          5,
          2,
          7,
          3,
          5,
          2,
          4
         ],
         "k": [
          2,
          1,
          6,
          5,
          4,
          1,
          6,
          3,
          7,
          1,
          6,
          0
         ],
         "opacity": 1,
         "type": "mesh3d",
         "x": [
          10,
          11,
          10,
          11,
          10,
          11,
          10,
          11
         ],
         "y": [
          1,
          1,
          3,
          3,
          1,
          1,
          3,
          3
         ],
         "z": [
          4,
          4,
          4,
          4,
          9,
          9,
          9,
          9
         ]
        },
        {
         "line": {
          "color": "black",
          "width": 0
         },
         "mode": "lines",
         "type": "scatter3d",
         "x": [
          10,
          11
         ],
         "y": [
          3,
          3
         ],
         "z": [
          9,
          9
         ]
        },
        {
         "color": "#750D86",
         "flatshading": true,
         "i": [
          1,
          2,
          5,
          6,
          1,
          4,
          3,
          6,
          1,
          7,
          0,
          6
         ],
         "j": [
          0,
          3,
          4,
          7,
          0,
          5,
          2,
          7,
          3,
          5,
          2,
          4
         ],
         "k": [
          2,
          1,
          6,
          5,
          4,
          1,
          6,
          3,
          7,
          1,
          6,
          0
         ],
         "opacity": 1,
         "type": "mesh3d",
         "x": [
          7,
          8,
          7,
          8,
          7,
          8,
          7,
          8
         ],
         "y": [
          8,
          8,
          10,
          10,
          8,
          8,
          10,
          10
         ],
         "z": [
          0,
          0,
          0,
          0,
          5,
          5,
          5,
          5
         ]
        },
        {
         "line": {
          "color": "black",
          "width": 0
         },
         "mode": "lines",
         "type": "scatter3d",
         "x": [
          7,
          8
         ],
         "y": [
          10,
          10
         ],
         "z": [
          5,
          5
         ]
        },
        {
         "color": "#00A08B",
         "flatshading": true,
         "i": [
          1,
          2,
          5,
          6,
          1,
          4,
          3,
          6,
          1,
          7,
          0,
          6
         ],
         "j": [
          0,
          3,
          4,
          7,
          0,
          5,
          2,
          7,
          3,
          5,
          2,
          4
         ],
         "k": [
          2,
          1,
          6,
          5,
          4,
          1,
          6,
          3,
          7,
          1,
          6,
          0
         ],
         "opacity": 1,
         "type": "mesh3d",
         "x": [
          8,
          9,
          8,
          9,
          8,
          9,
          8,
          9
         ],
         "y": [
          2,
          2,
          6,
          6,
          2,
          2,
          6,
          6
         ],
         "z": [
          2,
          2,
          2,
          2,
          5,
          5,
          5,
          5
         ]
        },
        {
         "line": {
          "color": "black",
          "width": 0
         },
         "mode": "lines",
         "type": "scatter3d",
         "x": [
          8,
          9
         ],
         "y": [
          6,
          6
         ],
         "z": [
          5,
          5
         ]
        },
        {
         "color": "#1CA71C",
         "flatshading": true,
         "i": [
          1,
          2,
          5,
          6,
          1,
          4,
          3,
          6,
          1,
          7,
          0,
          6
         ],
         "j": [
          0,
          3,
          4,
          7,
          0,
          5,
          2,
          7,
          3,
          5,
          2,
          4
         ],
         "k": [
          2,
          1,
          6,
          5,
          4,
          1,
          6,
          3,
          7,
          1,
          6,
          0
         ],
         "opacity": 1,
         "type": "mesh3d",
         "x": [
          3,
          4,
          3,
          4,
          3,
          4,
          3,
          4
         ],
         "y": [
          4,
          4,
          5,
          5,
          4,
          4,
          5,
          5
         ],
         "z": [
          0,
          0,
          0,
          0,
          3,
          3,
          3,
          3
         ]
        },
        {
         "line": {
          "color": "black",
          "width": 0
         },
         "mode": "lines",
         "type": "scatter3d",
         "x": [
          3,
          4
         ],
         "y": [
          5,
          5
         ],
         "z": [
          3,
          3
         ]
        },
        {
         "color": "#B68100",
         "flatshading": true,
         "i": [
          1,
          2,
          5,
          6,
          1,
          4,
          3,
          6,
          1,
          7,
          0,
          6
         ],
         "j": [
          0,
          3,
          4,
          7,
          0,
          5,
          2,
          7,
          3,
          5,
          2,
          4
         ],
         "k": [
          2,
          1,
          6,
          5,
          4,
          1,
          6,
          3,
          7,
          1,
          6,
          0
         ],
         "opacity": 1,
         "type": "mesh3d",
         "x": [
          2,
          5,
          2,
          5,
          2,
          5,
          2,
          5
         ],
         "y": [
          9,
          9,
          10,
          10,
          9,
          9,
          10,
          10
         ],
         "z": [
          0,
          0,
          0,
          0,
          2,
          2,
          2,
          2
         ]
        },
        {
         "line": {
          "color": "black",
          "width": 0
         },
         "mode": "lines",
         "type": "scatter3d",
         "x": [
          2,
          5
         ],
         "y": [
          10,
          10
         ],
         "z": [
          2,
          2
         ]
        },
        {
         "color": "#00A08B",
         "flatshading": true,
         "i": [
          1,
          2,
          5,
          6,
          1,
          4,
          3,
          6,
          1,
          7,
          0,
          6
         ],
         "j": [
          0,
          3,
          4,
          7,
          0,
          5,
          2,
          7,
          3,
          5,
          2,
          4
         ],
         "k": [
          2,
          1,
          6,
          5,
          4,
          1,
          6,
          3,
          7,
          1,
          6,
          0
         ],
         "opacity": 1,
         "type": "mesh3d",
         "x": [
          2,
          5,
          2,
          5,
          2,
          5,
          2,
          5
         ],
         "y": [
          2,
          2,
          3,
          3,
          2,
          2,
          3,
          3
         ],
         "z": [
          3,
          3,
          3,
          3,
          6,
          6,
          6,
          6
         ]
        },
        {
         "line": {
          "color": "black",
          "width": 0
         },
         "mode": "lines",
         "type": "scatter3d",
         "x": [
          2,
          5
         ],
         "y": [
          3,
          3
         ],
         "z": [
          6,
          6
         ]
        },
        {
         "color": "#A777F1",
         "flatshading": true,
         "i": [
          1,
          2,
          5,
          6,
          1,
          4,
          3,
          6,
          1,
          7,
          0,
          6
         ],
         "j": [
          0,
          3,
          4,
          7,
          0,
          5,
          2,
          7,
          3,
          5,
          2,
          4
         ],
         "k": [
          2,
          1,
          6,
          5,
          4,
          1,
          6,
          3,
          7,
          1,
          6,
          0
         ],
         "opacity": 1,
         "type": "mesh3d",
         "x": [
          5,
          8,
          5,
          8,
          5,
          8,
          5,
          8
         ],
         "y": [
          2,
          2,
          3,
          3,
          2,
          2,
          3,
          3
         ],
         "z": [
          0,
          0,
          0,
          0,
          5,
          5,
          5,
          5
         ]
        },
        {
         "line": {
          "color": "black",
          "width": 0
         },
         "mode": "lines",
         "type": "scatter3d",
         "x": [
          5,
          8
         ],
         "y": [
          3,
          3
         ],
         "z": [
          5,
          5
         ]
        },
        {
         "color": "#DA60CA",
         "flatshading": true,
         "i": [
          1,
          2,
          5,
          6,
          1,
          4,
          3,
          6,
          1,
          7,
          0,
          6
         ],
         "j": [
          0,
          3,
          4,
          7,
          0,
          5,
          2,
          7,
          3,
          5,
          2,
          4
         ],
         "k": [
          2,
          1,
          6,
          5,
          4,
          1,
          6,
          3,
          7,
          1,
          6,
          0
         ],
         "opacity": 1,
         "type": "mesh3d",
         "x": [
          9,
          11,
          9,
          11,
          9,
          11,
          9,
          11
         ],
         "y": [
          6,
          6,
          10,
          10,
          6,
          6,
          10,
          10
         ],
         "z": [
          0,
          0,
          0,
          0,
          2,
          2,
          2,
          2
         ]
        },
        {
         "line": {
          "color": "black",
          "width": 0
         },
         "mode": "lines",
         "type": "scatter3d",
         "x": [
          9,
          11
         ],
         "y": [
          10,
          10
         ],
         "z": [
          2,
          2
         ]
        },
        {
         "color": "#6C4516",
         "flatshading": true,
         "i": [
          1,
          2,
          5,
          6,
          1,
          4,
          3,
          6,
          1,
          7,
          0,
          6
         ],
         "j": [
          0,
          3,
          4,
          7,
          0,
          5,
          2,
          7,
          3,
          5,
          2,
          4
         ],
         "k": [
          2,
          1,
          6,
          5,
          4,
          1,
          6,
          3,
          7,
          1,
          6,
          0
         ],
         "opacity": 1,
         "type": "mesh3d",
         "x": [
          9,
          11,
          9,
          11,
          9,
          11,
          9,
          11
         ],
         "y": [
          6,
          6,
          10,
          10,
          6,
          6,
          10,
          10
         ],
         "z": [
          2,
          2,
          2,
          2,
          4,
          4,
          4,
          4
         ]
        },
        {
         "line": {
          "color": "black",
          "width": 0
         },
         "mode": "lines",
         "type": "scatter3d",
         "x": [
          9,
          11
         ],
         "y": [
          10,
          10
         ],
         "z": [
          4,
          4
         ]
        },
        {
         "color": "#778AAE",
         "flatshading": true,
         "i": [
          1,
          2,
          5,
          6,
          1,
          4,
          3,
          6,
          1,
          7,
          0,
          6
         ],
         "j": [
          0,
          3,
          4,
          7,
          0,
          5,
          2,
          7,
          3,
          5,
          2,
          4
         ],
         "k": [
          2,
          1,
          6,
          5,
          4,
          1,
          6,
          3,
          7,
          1,
          6,
          0
         ],
         "opacity": 1,
         "type": "mesh3d",
         "x": [
          7,
          11,
          7,
          11,
          7,
          11,
          7,
          11
         ],
         "y": [
          0,
          0,
          1,
          1,
          0,
          0,
          1,
          1
         ],
         "z": [
          0,
          0,
          0,
          0,
          2,
          2,
          2,
          2
         ]
        },
        {
         "line": {
          "color": "black",
          "width": 0
         },
         "mode": "lines",
         "type": "scatter3d",
         "x": [
          7,
          11
         ],
         "y": [
          1,
          1
         ],
         "z": [
          2,
          2
         ]
        },
        {
         "color": "#FC0080",
         "flatshading": true,
         "i": [
          1,
          2,
          5,
          6,
          1,
          4,
          3,
          6,
          1,
          7,
          0,
          6
         ],
         "j": [
          0,
          3,
          4,
          7,
          0,
          5,
          2,
          7,
          3,
          5,
          2,
          4
         ],
         "k": [
          2,
          1,
          6,
          5,
          4,
          1,
          6,
          3,
          7,
          1,
          6,
          0
         ],
         "opacity": 1,
         "type": "mesh3d",
         "x": [
          1,
          5,
          1,
          5,
          1,
          5,
          1,
          5
         ],
         "y": [
          10,
          10,
          11,
          11,
          10,
          10,
          11,
          11
         ],
         "z": [
          0,
          0,
          0,
          0,
          1,
          1,
          1,
          1
         ]
        },
        {
         "line": {
          "color": "black",
          "width": 0
         },
         "mode": "lines",
         "type": "scatter3d",
         "x": [
          1,
          5
         ],
         "y": [
          11,
          11
         ],
         "z": [
          1,
          1
         ]
        },
        {
         "color": "#6C7C32",
         "flatshading": true,
         "i": [
          1,
          2,
          5,
          6,
          1,
          4,
          3,
          6,
          1,
          7,
          0,
          6
         ],
         "j": [
          0,
          3,
          4,
          7,
          0,
          5,
          2,
          7,
          3,
          5,
          2,
          4
         ],
         "k": [
          2,
          1,
          6,
          5,
          4,
          1,
          6,
          3,
          7,
          1,
          6,
          0
         ],
         "opacity": 1,
         "type": "mesh3d",
         "x": [
          5,
          7,
          5,
          7,
          5,
          7,
          5,
          7
         ],
         "y": [
          2,
          2,
          3,
          3,
          2,
          2,
          3,
          3
         ],
         "z": [
          5,
          5,
          5,
          5,
          6,
          6,
          6,
          6
         ]
        },
        {
         "line": {
          "color": "black",
          "width": 0
         },
         "mode": "lines",
         "type": "scatter3d",
         "x": [
          5,
          7
         ],
         "y": [
          3,
          3
         ],
         "z": [
          6,
          6
         ]
        },
        {
         "color": "#862A16",
         "flatshading": true,
         "i": [
          1,
          2,
          5,
          6,
          1,
          4,
          3,
          6,
          1,
          7,
          0,
          6
         ],
         "j": [
          0,
          3,
          4,
          7,
          0,
          5,
          2,
          7,
          3,
          5,
          2,
          4
         ],
         "k": [
          2,
          1,
          6,
          5,
          4,
          1,
          6,
          3,
          7,
          1,
          6,
          0
         ],
         "opacity": 1,
         "type": "mesh3d",
         "x": [
          4,
          7,
          4,
          7,
          4,
          7,
          4,
          7
         ],
         "y": [
          4,
          4,
          5,
          5,
          4,
          4,
          5,
          5
         ],
         "z": [
          0,
          0,
          0,
          0,
          1,
          1,
          1,
          1
         ]
        },
        {
         "line": {
          "color": "black",
          "width": 0
         },
         "mode": "lines",
         "type": "scatter3d",
         "x": [
          4,
          7
         ],
         "y": [
          5,
          5
         ],
         "z": [
          1,
          1
         ]
        },
        {
         "color": "#0D2A63",
         "flatshading": true,
         "i": [
          1,
          2,
          5,
          6,
          1,
          4,
          3,
          6,
          1,
          7,
          0,
          6
         ],
         "j": [
          0,
          3,
          4,
          7,
          0,
          5,
          2,
          7,
          3,
          5,
          2,
          4
         ],
         "k": [
          2,
          1,
          6,
          5,
          4,
          1,
          6,
          3,
          7,
          1,
          6,
          0
         ],
         "opacity": 1,
         "type": "mesh3d",
         "x": [
          1,
          5,
          1,
          5,
          1,
          5,
          1,
          5
         ],
         "y": [
          10,
          10,
          11,
          11,
          10,
          10,
          11,
          11
         ],
         "z": [
          1,
          1,
          1,
          1,
          2,
          2,
          2,
          2
         ]
        },
        {
         "line": {
          "color": "black",
          "width": 0
         },
         "mode": "lines",
         "type": "scatter3d",
         "x": [
          1,
          5
         ],
         "y": [
          11,
          11
         ],
         "z": [
          2,
          2
         ]
        },
        {
         "color": "#B68100",
         "flatshading": true,
         "i": [
          1,
          2,
          5,
          6,
          1,
          4,
          3,
          6,
          1,
          7,
          0,
          6
         ],
         "j": [
          0,
          3,
          4,
          7,
          0,
          5,
          2,
          7,
          3,
          5,
          2,
          4
         ],
         "k": [
          2,
          1,
          6,
          5,
          4,
          1,
          6,
          3,
          7,
          1,
          6,
          0
         ],
         "opacity": 1,
         "type": "mesh3d",
         "x": [
          7,
          10,
          7,
          10,
          7,
          10,
          7,
          10
         ],
         "y": [
          10,
          10,
          11,
          11,
          10,
          10,
          11,
          11
         ],
         "z": [
          2,
          2,
          2,
          2,
          4,
          4,
          4,
          4
         ]
        },
        {
         "line": {
          "color": "black",
          "width": 0
         },
         "mode": "lines",
         "type": "scatter3d",
         "x": [
          7,
          10
         ],
         "y": [
          11,
          11
         ],
         "z": [
          4,
          4
         ]
        },
        {
         "color": "#FC0080",
         "flatshading": true,
         "i": [
          1,
          2,
          5,
          6,
          1,
          4,
          3,
          6,
          1,
          7,
          0,
          6
         ],
         "j": [
          0,
          3,
          4,
          7,
          0,
          5,
          2,
          7,
          3,
          5,
          2,
          4
         ],
         "k": [
          2,
          1,
          6,
          5,
          4,
          1,
          6,
          3,
          7,
          1,
          6,
          0
         ],
         "opacity": 1,
         "type": "mesh3d",
         "x": [
          7,
          8,
          7,
          8,
          7,
          8,
          7,
          8
         ],
         "y": [
          4,
          4,
          8,
          8,
          4,
          4,
          8,
          8
         ],
         "z": [
          3,
          3,
          3,
          3,
          5,
          5,
          5,
          5
         ]
        },
        {
         "line": {
          "color": "black",
          "width": 0
         },
         "mode": "lines",
         "type": "scatter3d",
         "x": [
          7,
          8
         ],
         "y": [
          8,
          8
         ],
         "z": [
          5,
          5
         ]
        },
        {
         "color": "#B2828D",
         "flatshading": true,
         "i": [
          1,
          2,
          5,
          6,
          1,
          4,
          3,
          6,
          1,
          7,
          0,
          6
         ],
         "j": [
          0,
          3,
          4,
          7,
          0,
          5,
          2,
          7,
          3,
          5,
          2,
          4
         ],
         "k": [
          2,
          1,
          6,
          5,
          4,
          1,
          6,
          3,
          7,
          1,
          6,
          0
         ],
         "opacity": 1,
         "type": "mesh3d",
         "x": [
          3,
          4,
          3,
          4,
          3,
          4,
          3,
          4
         ],
         "y": [
          5,
          5,
          9,
          9,
          5,
          5,
          9,
          9
         ],
         "z": [
          0,
          0,
          0,
          0,
          2,
          2,
          2,
          2
         ]
        },
        {
         "line": {
          "color": "black",
          "width": 0
         },
         "mode": "lines",
         "type": "scatter3d",
         "x": [
          3,
          4
         ],
         "y": [
          9,
          9
         ],
         "z": [
          2,
          2
         ]
        },
        {
         "color": "#511CFB",
         "flatshading": true,
         "i": [
          1,
          2,
          5,
          6,
          1,
          4,
          3,
          6,
          1,
          7,
          0,
          6
         ],
         "j": [
          0,
          3,
          4,
          7,
          0,
          5,
          2,
          7,
          3,
          5,
          2,
          4
         ],
         "k": [
          2,
          1,
          6,
          5,
          4,
          1,
          6,
          3,
          7,
          1,
          6,
          0
         ],
         "opacity": 1,
         "type": "mesh3d",
         "x": [
          2,
          5,
          2,
          5,
          2,
          5,
          2,
          5
         ],
         "y": [
          10,
          10,
          11,
          11,
          10,
          10,
          11,
          11
         ],
         "z": [
          2,
          2,
          2,
          2,
          3,
          3,
          3,
          3
         ]
        },
        {
         "line": {
          "color": "black",
          "width": 0
         },
         "mode": "lines",
         "type": "scatter3d",
         "x": [
          2,
          5
         ],
         "y": [
          11,
          11
         ],
         "z": [
          3,
          3
         ]
        },
        {
         "color": "#EB663B",
         "flatshading": true,
         "i": [
          1,
          2,
          5,
          6,
          1,
          4,
          3,
          6,
          1,
          7,
          0,
          6
         ],
         "j": [
          0,
          3,
          4,
          7,
          0,
          5,
          2,
          7,
          3,
          5,
          2,
          4
         ],
         "k": [
          2,
          1,
          6,
          5,
          4,
          1,
          6,
          3,
          7,
          1,
          6,
          0
         ],
         "opacity": 1,
         "type": "mesh3d",
         "x": [
          0,
          1,
          0,
          1,
          0,
          1,
          0,
          1
         ],
         "y": [
          8,
          8,
          9,
          9,
          8,
          8,
          9,
          9
         ],
         "z": [
          1,
          1,
          1,
          1,
          2,
          2,
          2,
          2
         ]
        },
        {
         "line": {
          "color": "black",
          "width": 0
         },
         "mode": "lines",
         "type": "scatter3d",
         "x": [
          0,
          1
         ],
         "y": [
          9,
          9
         ],
         "z": [
          2,
          2
         ]
        },
        {
         "color": "#AF0038",
         "flatshading": true,
         "i": [
          1,
          2,
          5,
          6,
          1,
          4,
          3,
          6,
          1,
          7,
          0,
          6
         ],
         "j": [
          0,
          3,
          4,
          7,
          0,
          5,
          2,
          7,
          3,
          5,
          2,
          4
         ],
         "k": [
          2,
          1,
          6,
          5,
          4,
          1,
          6,
          3,
          7,
          1,
          6,
          0
         ],
         "opacity": 1,
         "type": "mesh3d",
         "x": [
          2,
          7,
          2,
          7,
          2,
          7,
          2,
          7
         ],
         "y": [
          2,
          2,
          3,
          3,
          2,
          2,
          3,
          3
         ],
         "z": [
          6,
          6,
          6,
          6,
          9,
          9,
          9,
          9
         ]
        },
        {
         "line": {
          "color": "black",
          "width": 0
         },
         "mode": "lines",
         "type": "scatter3d",
         "x": [
          2,
          7
         ],
         "y": [
          3,
          3
         ],
         "z": [
          9,
          9
         ]
        },
        {
         "color": "#A777F1",
         "flatshading": true,
         "i": [
          1,
          2,
          5,
          6,
          1,
          4,
          3,
          6,
          1,
          7,
          0,
          6
         ],
         "j": [
          0,
          3,
          4,
          7,
          0,
          5,
          2,
          7,
          3,
          5,
          2,
          4
         ],
         "k": [
          2,
          1,
          6,
          5,
          4,
          1,
          6,
          3,
          7,
          1,
          6,
          0
         ],
         "opacity": 1,
         "type": "mesh3d",
         "x": [
          4,
          7,
          4,
          7,
          4,
          7,
          4,
          7
         ],
         "y": [
          2,
          2,
          3,
          3,
          2,
          2,
          3,
          3
         ],
         "z": [
          9,
          9,
          9,
          9,
          11,
          11,
          11,
          11
         ]
        },
        {
         "line": {
          "color": "black",
          "width": 0
         },
         "mode": "lines",
         "type": "scatter3d",
         "x": [
          4,
          7
         ],
         "y": [
          3,
          3
         ],
         "z": [
          11,
          11
         ]
        },
        {
         "color": "#B2828D",
         "flatshading": true,
         "i": [
          1,
          2,
          5,
          6,
          1,
          4,
          3,
          6,
          1,
          7,
          0,
          6
         ],
         "j": [
          0,
          3,
          4,
          7,
          0,
          5,
          2,
          7,
          3,
          5,
          2,
          4
         ],
         "k": [
          2,
          1,
          6,
          5,
          4,
          1,
          6,
          3,
          7,
          1,
          6,
          0
         ],
         "opacity": 1,
         "type": "mesh3d",
         "x": [
          3,
          4,
          3,
          4,
          3,
          4,
          3,
          4
         ],
         "y": [
          10,
          10,
          11,
          11,
          10,
          10,
          11,
          11
         ],
         "z": [
          3,
          3,
          3,
          3,
          4,
          4,
          4,
          4
         ]
        },
        {
         "line": {
          "color": "black",
          "width": 0
         },
         "mode": "lines",
         "type": "scatter3d",
         "x": [
          3,
          4
         ],
         "y": [
          11,
          11
         ],
         "z": [
          4,
          4
         ]
        },
        {
         "color": "#0D2A63",
         "flatshading": true,
         "i": [
          1,
          2,
          5,
          6,
          1,
          4,
          3,
          6,
          1,
          7,
          0,
          6
         ],
         "j": [
          0,
          3,
          4,
          7,
          0,
          5,
          2,
          7,
          3,
          5,
          2,
          4
         ],
         "k": [
          2,
          1,
          6,
          5,
          4,
          1,
          6,
          3,
          7,
          1,
          6,
          0
         ],
         "opacity": 1,
         "type": "mesh3d",
         "x": [
          2,
          3,
          2,
          3,
          2,
          3,
          2,
          3
         ],
         "y": [
          9,
          9,
          10,
          10,
          9,
          9,
          10,
          10
         ],
         "z": [
          2,
          2,
          2,
          2,
          4,
          4,
          4,
          4
         ]
        },
        {
         "line": {
          "color": "black",
          "width": 0
         },
         "mode": "lines",
         "type": "scatter3d",
         "x": [
          2,
          3
         ],
         "y": [
          10,
          10
         ],
         "z": [
          4,
          4
         ]
        },
        {
         "color": "#2E91E5",
         "flatshading": true,
         "i": [
          1,
          2,
          5,
          6,
          1,
          4,
          3,
          6,
          1,
          7,
          0,
          6
         ],
         "j": [
          0,
          3,
          4,
          7,
          0,
          5,
          2,
          7,
          3,
          5,
          2,
          4
         ],
         "k": [
          2,
          1,
          6,
          5,
          4,
          1,
          6,
          3,
          7,
          1,
          6,
          0
         ],
         "opacity": 1,
         "type": "mesh3d",
         "x": [
          2,
          3,
          2,
          3,
          2,
          3,
          2,
          3
         ],
         "y": [
          7,
          7,
          8,
          8,
          7,
          7,
          8,
          8
         ],
         "z": [
          3,
          3,
          3,
          3,
          6,
          6,
          6,
          6
         ]
        },
        {
         "line": {
          "color": "black",
          "width": 0
         },
         "mode": "lines",
         "type": "scatter3d",
         "x": [
          2,
          3
         ],
         "y": [
          8,
          8
         ],
         "z": [
          6,
          6
         ]
        },
        {
         "color": "#DA16FF",
         "flatshading": true,
         "i": [
          1,
          2,
          5,
          6,
          1,
          4,
          3,
          6,
          1,
          7,
          0,
          6
         ],
         "j": [
          0,
          3,
          4,
          7,
          0,
          5,
          2,
          7,
          3,
          5,
          2,
          4
         ],
         "k": [
          2,
          1,
          6,
          5,
          4,
          1,
          6,
          3,
          7,
          1,
          6,
          0
         ],
         "opacity": 1,
         "type": "mesh3d",
         "x": [
          4,
          7,
          4,
          7,
          4,
          7,
          4,
          7
         ],
         "y": [
          4,
          4,
          5,
          5,
          4,
          4,
          5,
          5
         ],
         "z": [
          1,
          1,
          1,
          1,
          3,
          3,
          3,
          3
         ]
        },
        {
         "line": {
          "color": "black",
          "width": 0
         },
         "mode": "lines",
         "type": "scatter3d",
         "x": [
          4,
          7
         ],
         "y": [
          5,
          5
         ],
         "z": [
          3,
          3
         ]
        },
        {
         "color": "#B68100",
         "flatshading": true,
         "i": [
          1,
          2,
          5,
          6,
          1,
          4,
          3,
          6,
          1,
          7,
          0,
          6
         ],
         "j": [
          0,
          3,
          4,
          7,
          0,
          5,
          2,
          7,
          3,
          5,
          2,
          4
         ],
         "k": [
          2,
          1,
          6,
          5,
          4,
          1,
          6,
          3,
          7,
          1,
          6,
          0
         ],
         "opacity": 1,
         "type": "mesh3d",
         "x": [
          9,
          11,
          9,
          11,
          9,
          11,
          9,
          11
         ],
         "y": [
          7,
          7,
          10,
          10,
          7,
          7,
          10,
          10
         ],
         "z": [
          4,
          4,
          4,
          4,
          5,
          5,
          5,
          5
         ]
        },
        {
         "line": {
          "color": "black",
          "width": 0
         },
         "mode": "lines",
         "type": "scatter3d",
         "x": [
          9,
          11
         ],
         "y": [
          10,
          10
         ],
         "z": [
          5,
          5
         ]
        },
        {
         "color": "#B2828D",
         "flatshading": true,
         "i": [
          1,
          2,
          5,
          6,
          1,
          4,
          3,
          6,
          1,
          7,
          0,
          6
         ],
         "j": [
          0,
          3,
          4,
          7,
          0,
          5,
          2,
          7,
          3,
          5,
          2,
          4
         ],
         "k": [
          2,
          1,
          6,
          5,
          4,
          1,
          6,
          3,
          7,
          1,
          6,
          0
         ],
         "opacity": 1,
         "type": "mesh3d",
         "x": [
          7,
          10,
          7,
          10,
          7,
          10,
          7,
          10
         ],
         "y": [
          0,
          0,
          1,
          1,
          0,
          0,
          1,
          1
         ],
         "z": [
          2,
          2,
          2,
          2,
          5,
          5,
          5,
          5
         ]
        },
        {
         "line": {
          "color": "black",
          "width": 0
         },
         "mode": "lines",
         "type": "scatter3d",
         "x": [
          7,
          10
         ],
         "y": [
          1,
          1
         ],
         "z": [
          5,
          5
         ]
        },
        {
         "color": "#6C7C32",
         "flatshading": true,
         "i": [
          1,
          2,
          5,
          6,
          1,
          4,
          3,
          6,
          1,
          7,
          0,
          6
         ],
         "j": [
          0,
          3,
          4,
          7,
          0,
          5,
          2,
          7,
          3,
          5,
          2,
          4
         ],
         "k": [
          2,
          1,
          6,
          5,
          4,
          1,
          6,
          3,
          7,
          1,
          6,
          0
         ],
         "opacity": 1,
         "type": "mesh3d",
         "x": [
          5,
          7,
          5,
          7,
          5,
          7,
          5,
          7
         ],
         "y": [
          0,
          0,
          2,
          2,
          0,
          0,
          2,
          2
         ],
         "z": [
          0,
          0,
          0,
          0,
          2,
          2,
          2,
          2
         ]
        },
        {
         "line": {
          "color": "black",
          "width": 0
         },
         "mode": "lines",
         "type": "scatter3d",
         "x": [
          5,
          7
         ],
         "y": [
          2,
          2
         ],
         "z": [
          2,
          2
         ]
        },
        {
         "color": "#778AAE",
         "flatshading": true,
         "i": [
          1,
          2,
          5,
          6,
          1,
          4,
          3,
          6,
          1,
          7,
          0,
          6
         ],
         "j": [
          0,
          3,
          4,
          7,
          0,
          5,
          2,
          7,
          3,
          5,
          2,
          4
         ],
         "k": [
          2,
          1,
          6,
          5,
          4,
          1,
          6,
          3,
          7,
          1,
          6,
          0
         ],
         "opacity": 1,
         "type": "mesh3d",
         "x": [
          7,
          9,
          7,
          9,
          7,
          9,
          7,
          9
         ],
         "y": [
          4,
          4,
          6,
          6,
          4,
          4,
          6,
          6
         ],
         "z": [
          5,
          5,
          5,
          5,
          7,
          7,
          7,
          7
         ]
        },
        {
         "line": {
          "color": "black",
          "width": 0
         },
         "mode": "lines",
         "type": "scatter3d",
         "x": [
          7,
          9
         ],
         "y": [
          6,
          6
         ],
         "z": [
          7,
          7
         ]
        }
       ],
       "layout": {
        "height": 1200,
        "margin": {
         "b": 10,
         "l": 10,
         "r": 20,
         "t": 10
        },
        "scene": {
         "aspectmode": "cube",
         "camera": {
          "eye": {
           "x": 2,
           "y": 2,
           "z": 0.1
          }
         },
         "xaxis": {
          "nticks": 13,
          "range": [
           0,
           16
          ],
          "showgrid": false,
          "showticklabels": false
         },
         "yaxis": {
          "nticks": 13,
          "range": [
           0,
           16
          ],
          "showgrid": false,
          "showticklabels": false
         },
         "zaxis": {
          "nticks": 13,
          "range": [
           0,
           16
          ],
          "showgrid": false,
          "showticklabels": false
         }
        },
        "showlegend": false,
        "template": {
         "data": {
          "bar": [
           {
            "error_x": {
             "color": "#f2f5fa"
            },
            "error_y": {
             "color": "#f2f5fa"
            },
            "marker": {
             "line": {
              "color": "rgb(17,17,17)",
              "width": 0.5
             },
             "pattern": {
              "fillmode": "overlay",
              "size": 10,
              "solidity": 0.2
             }
            },
            "type": "bar"
           }
          ],
          "barpolar": [
           {
            "marker": {
             "line": {
              "color": "rgb(17,17,17)",
              "width": 0.5
             },
             "pattern": {
              "fillmode": "overlay",
              "size": 10,
              "solidity": 0.2
             }
            },
            "type": "barpolar"
           }
          ],
          "carpet": [
           {
            "aaxis": {
             "endlinecolor": "#A2B1C6",
             "gridcolor": "#506784",
             "linecolor": "#506784",
             "minorgridcolor": "#506784",
             "startlinecolor": "#A2B1C6"
            },
            "baxis": {
             "endlinecolor": "#A2B1C6",
             "gridcolor": "#506784",
             "linecolor": "#506784",
             "minorgridcolor": "#506784",
             "startlinecolor": "#A2B1C6"
            },
            "type": "carpet"
           }
          ],
          "choropleth": [
           {
            "colorbar": {
             "outlinewidth": 0,
             "ticks": ""
            },
            "type": "choropleth"
           }
          ],
          "contour": [
           {
            "colorbar": {
             "outlinewidth": 0,
             "ticks": ""
            },
            "colorscale": [
             [
              0,
              "#0d0887"
             ],
             [
              0.1111111111111111,
              "#46039f"
             ],
             [
              0.2222222222222222,
              "#7201a8"
             ],
             [
              0.3333333333333333,
              "#9c179e"
             ],
             [
              0.4444444444444444,
              "#bd3786"
             ],
             [
              0.5555555555555556,
              "#d8576b"
             ],
             [
              0.6666666666666666,
              "#ed7953"
             ],
             [
              0.7777777777777778,
              "#fb9f3a"
             ],
             [
              0.8888888888888888,
              "#fdca26"
             ],
             [
              1,
              "#f0f921"
             ]
            ],
            "type": "contour"
           }
          ],
          "contourcarpet": [
           {
            "colorbar": {
             "outlinewidth": 0,
             "ticks": ""
            },
            "type": "contourcarpet"
           }
          ],
          "heatmap": [
           {
            "colorbar": {
             "outlinewidth": 0,
             "ticks": ""
            },
            "colorscale": [
             [
              0,
              "#0d0887"
             ],
             [
              0.1111111111111111,
              "#46039f"
             ],
             [
              0.2222222222222222,
              "#7201a8"
             ],
             [
              0.3333333333333333,
              "#9c179e"
             ],
             [
              0.4444444444444444,
              "#bd3786"
             ],
             [
              0.5555555555555556,
              "#d8576b"
             ],
             [
              0.6666666666666666,
              "#ed7953"
             ],
             [
              0.7777777777777778,
              "#fb9f3a"
             ],
             [
              0.8888888888888888,
              "#fdca26"
             ],
             [
              1,
              "#f0f921"
             ]
            ],
            "type": "heatmap"
           }
          ],
          "heatmapgl": [
           {
            "colorbar": {
             "outlinewidth": 0,
             "ticks": ""
            },
            "colorscale": [
             [
              0,
              "#0d0887"
             ],
             [
              0.1111111111111111,
              "#46039f"
             ],
             [
              0.2222222222222222,
              "#7201a8"
             ],
             [
              0.3333333333333333,
              "#9c179e"
             ],
             [
              0.4444444444444444,
              "#bd3786"
             ],
             [
              0.5555555555555556,
              "#d8576b"
             ],
             [
              0.6666666666666666,
              "#ed7953"
             ],
             [
              0.7777777777777778,
              "#fb9f3a"
             ],
             [
              0.8888888888888888,
              "#fdca26"
             ],
             [
              1,
              "#f0f921"
             ]
            ],
            "type": "heatmapgl"
           }
          ],
          "histogram": [
           {
            "marker": {
             "pattern": {
              "fillmode": "overlay",
              "size": 10,
              "solidity": 0.2
             }
            },
            "type": "histogram"
           }
          ],
          "histogram2d": [
           {
            "colorbar": {
             "outlinewidth": 0,
             "ticks": ""
            },
            "colorscale": [
             [
              0,
              "#0d0887"
             ],
             [
              0.1111111111111111,
              "#46039f"
             ],
             [
              0.2222222222222222,
              "#7201a8"
             ],
             [
              0.3333333333333333,
              "#9c179e"
             ],
             [
              0.4444444444444444,
              "#bd3786"
             ],
             [
              0.5555555555555556,
              "#d8576b"
             ],
             [
              0.6666666666666666,
              "#ed7953"
             ],
             [
              0.7777777777777778,
              "#fb9f3a"
             ],
             [
              0.8888888888888888,
              "#fdca26"
             ],
             [
              1,
              "#f0f921"
             ]
            ],
            "type": "histogram2d"
           }
          ],
          "histogram2dcontour": [
           {
            "colorbar": {
             "outlinewidth": 0,
             "ticks": ""
            },
            "colorscale": [
             [
              0,
              "#0d0887"
             ],
             [
              0.1111111111111111,
              "#46039f"
             ],
             [
              0.2222222222222222,
              "#7201a8"
             ],
             [
              0.3333333333333333,
              "#9c179e"
             ],
             [
              0.4444444444444444,
              "#bd3786"
             ],
             [
              0.5555555555555556,
              "#d8576b"
             ],
             [
              0.6666666666666666,
              "#ed7953"
             ],
             [
              0.7777777777777778,
              "#fb9f3a"
             ],
             [
              0.8888888888888888,
              "#fdca26"
             ],
             [
              1,
              "#f0f921"
             ]
            ],
            "type": "histogram2dcontour"
           }
          ],
          "mesh3d": [
           {
            "colorbar": {
             "outlinewidth": 0,
             "ticks": ""
            },
            "type": "mesh3d"
           }
          ],
          "parcoords": [
           {
            "line": {
             "colorbar": {
              "outlinewidth": 0,
              "ticks": ""
             }
            },
            "type": "parcoords"
           }
          ],
          "pie": [
           {
            "automargin": true,
            "type": "pie"
           }
          ],
          "scatter": [
           {
            "marker": {
             "line": {
              "color": "#283442"
             }
            },
            "type": "scatter"
           }
          ],
          "scatter3d": [
           {
            "line": {
             "colorbar": {
              "outlinewidth": 0,
              "ticks": ""
             }
            },
            "marker": {
             "colorbar": {
              "outlinewidth": 0,
              "ticks": ""
             }
            },
            "type": "scatter3d"
           }
          ],
          "scattercarpet": [
           {
            "marker": {
             "colorbar": {
              "outlinewidth": 0,
              "ticks": ""
             }
            },
            "type": "scattercarpet"
           }
          ],
          "scattergeo": [
           {
            "marker": {
             "colorbar": {
              "outlinewidth": 0,
              "ticks": ""
             }
            },
            "type": "scattergeo"
           }
          ],
          "scattergl": [
           {
            "marker": {
             "line": {
              "color": "#283442"
             }
            },
            "type": "scattergl"
           }
          ],
          "scattermapbox": [
           {
            "marker": {
             "colorbar": {
              "outlinewidth": 0,
              "ticks": ""
             }
            },
            "type": "scattermapbox"
           }
          ],
          "scatterpolar": [
           {
            "marker": {
             "colorbar": {
              "outlinewidth": 0,
              "ticks": ""
             }
            },
            "type": "scatterpolar"
           }
          ],
          "scatterpolargl": [
           {
            "marker": {
             "colorbar": {
              "outlinewidth": 0,
              "ticks": ""
             }
            },
            "type": "scatterpolargl"
           }
          ],
          "scatterternary": [
           {
            "marker": {
             "colorbar": {
              "outlinewidth": 0,
              "ticks": ""
             }
            },
            "type": "scatterternary"
           }
          ],
          "surface": [
           {
            "colorbar": {
             "outlinewidth": 0,
             "ticks": ""
            },
            "colorscale": [
             [
              0,
              "#0d0887"
             ],
             [
              0.1111111111111111,
              "#46039f"
             ],
             [
              0.2222222222222222,
              "#7201a8"
             ],
             [
              0.3333333333333333,
              "#9c179e"
             ],
             [
              0.4444444444444444,
              "#bd3786"
             ],
             [
              0.5555555555555556,
              "#d8576b"
             ],
             [
              0.6666666666666666,
              "#ed7953"
             ],
             [
              0.7777777777777778,
              "#fb9f3a"
             ],
             [
              0.8888888888888888,
              "#fdca26"
             ],
             [
              1,
              "#f0f921"
             ]
            ],
            "type": "surface"
           }
          ],
          "table": [
           {
            "cells": {
             "fill": {
              "color": "#506784"
             },
             "line": {
              "color": "rgb(17,17,17)"
             }
            },
            "header": {
             "fill": {
              "color": "#2a3f5f"
             },
             "line": {
              "color": "rgb(17,17,17)"
             }
            },
            "type": "table"
           }
          ]
         },
         "layout": {
          "annotationdefaults": {
           "arrowcolor": "#f2f5fa",
           "arrowhead": 0,
           "arrowwidth": 1
          },
          "autotypenumbers": "strict",
          "coloraxis": {
           "colorbar": {
            "outlinewidth": 0,
            "ticks": ""
           }
          },
          "colorscale": {
           "diverging": [
            [
             0,
             "#8e0152"
            ],
            [
             0.1,
             "#c51b7d"
            ],
            [
             0.2,
             "#de77ae"
            ],
            [
             0.3,
             "#f1b6da"
            ],
            [
             0.4,
             "#fde0ef"
            ],
            [
             0.5,
             "#f7f7f7"
            ],
            [
             0.6,
             "#e6f5d0"
            ],
            [
             0.7,
             "#b8e186"
            ],
            [
             0.8,
             "#7fbc41"
            ],
            [
             0.9,
             "#4d9221"
            ],
            [
             1,
             "#276419"
            ]
           ],
           "sequential": [
            [
             0,
             "#0d0887"
            ],
            [
             0.1111111111111111,
             "#46039f"
            ],
            [
             0.2222222222222222,
             "#7201a8"
            ],
            [
             0.3333333333333333,
             "#9c179e"
            ],
            [
             0.4444444444444444,
             "#bd3786"
            ],
            [
             0.5555555555555556,
             "#d8576b"
            ],
            [
             0.6666666666666666,
             "#ed7953"
            ],
            [
             0.7777777777777778,
             "#fb9f3a"
            ],
            [
             0.8888888888888888,
             "#fdca26"
            ],
            [
             1,
             "#f0f921"
            ]
           ],
           "sequentialminus": [
            [
             0,
             "#0d0887"
            ],
            [
             0.1111111111111111,
             "#46039f"
            ],
            [
             0.2222222222222222,
             "#7201a8"
            ],
            [
             0.3333333333333333,
             "#9c179e"
            ],
            [
             0.4444444444444444,
             "#bd3786"
            ],
            [
             0.5555555555555556,
             "#d8576b"
            ],
            [
             0.6666666666666666,
             "#ed7953"
            ],
            [
             0.7777777777777778,
             "#fb9f3a"
            ],
            [
             0.8888888888888888,
             "#fdca26"
            ],
            [
             1,
             "#f0f921"
            ]
           ]
          },
          "colorway": [
           "#636efa",
           "#EF553B",
           "#00cc96",
           "#ab63fa",
           "#FFA15A",
           "#19d3f3",
           "#FF6692",
           "#B6E880",
           "#FF97FF",
           "#FECB52"
          ],
          "font": {
           "color": "#f2f5fa"
          },
          "geo": {
           "bgcolor": "rgb(17,17,17)",
           "lakecolor": "rgb(17,17,17)",
           "landcolor": "rgb(17,17,17)",
           "showlakes": true,
           "showland": true,
           "subunitcolor": "#506784"
          },
          "hoverlabel": {
           "align": "left"
          },
          "hovermode": "closest",
          "mapbox": {
           "style": "dark"
          },
          "paper_bgcolor": "rgb(17,17,17)",
          "plot_bgcolor": "rgb(17,17,17)",
          "polar": {
           "angularaxis": {
            "gridcolor": "#506784",
            "linecolor": "#506784",
            "ticks": ""
           },
           "bgcolor": "rgb(17,17,17)",
           "radialaxis": {
            "gridcolor": "#506784",
            "linecolor": "#506784",
            "ticks": ""
           }
          },
          "scene": {
           "xaxis": {
            "backgroundcolor": "rgb(17,17,17)",
            "gridcolor": "#506784",
            "gridwidth": 2,
            "linecolor": "#506784",
            "showbackground": true,
            "ticks": "",
            "zerolinecolor": "#C8D4E3"
           },
           "yaxis": {
            "backgroundcolor": "rgb(17,17,17)",
            "gridcolor": "#506784",
            "gridwidth": 2,
            "linecolor": "#506784",
            "showbackground": true,
            "ticks": "",
            "zerolinecolor": "#C8D4E3"
           },
           "zaxis": {
            "backgroundcolor": "rgb(17,17,17)",
            "gridcolor": "#506784",
            "gridwidth": 2,
            "linecolor": "#506784",
            "showbackground": true,
            "ticks": "",
            "zerolinecolor": "#C8D4E3"
           }
          },
          "shapedefaults": {
           "line": {
            "color": "#f2f5fa"
           }
          },
          "sliderdefaults": {
           "bgcolor": "#C8D4E3",
           "bordercolor": "rgb(17,17,17)",
           "borderwidth": 1,
           "tickwidth": 0
          },
          "ternary": {
           "aaxis": {
            "gridcolor": "#506784",
            "linecolor": "#506784",
            "ticks": ""
           },
           "baxis": {
            "gridcolor": "#506784",
            "linecolor": "#506784",
            "ticks": ""
           },
           "bgcolor": "rgb(17,17,17)",
           "caxis": {
            "gridcolor": "#506784",
            "linecolor": "#506784",
            "ticks": ""
           }
          },
          "title": {
           "x": 0.05
          },
          "updatemenudefaults": {
           "bgcolor": "#506784",
           "borderwidth": 0
          },
          "xaxis": {
           "automargin": true,
           "gridcolor": "#283442",
           "linecolor": "#506784",
           "ticks": "",
           "title": {
            "standoff": 15
           },
           "zerolinecolor": "#283442",
           "zerolinewidth": 2
          },
          "yaxis": {
           "automargin": true,
           "gridcolor": "#283442",
           "linecolor": "#506784",
           "ticks": "",
           "title": {
            "standoff": 15
           },
           "zerolinecolor": "#283442",
           "zerolinewidth": 2
          }
         }
        },
        "width": 1200
       }
      },
      "text/html": [
       "<div>                            <div id=\"22f7920c-cbdc-470b-813c-2de207b8aff6\" class=\"plotly-graph-div\" style=\"height:1200px; width:1200px;\"></div>            <script type=\"text/javascript\">                require([\"plotly\"], function(Plotly) {                    window.PLOTLYENV=window.PLOTLYENV || {};                                    if (document.getElementById(\"22f7920c-cbdc-470b-813c-2de207b8aff6\")) {                    Plotly.newPlot(                        \"22f7920c-cbdc-470b-813c-2de207b8aff6\",                        [{\"line\":{\"color\":\"yellow\",\"width\":3},\"mode\":\"lines\",\"x\":[0,11],\"y\":[0,0],\"z\":[0,0],\"type\":\"scatter3d\"},{\"line\":{\"color\":\"yellow\",\"width\":3},\"mode\":\"lines\",\"x\":[0,0],\"y\":[0,11],\"z\":[0,0],\"type\":\"scatter3d\"},{\"line\":{\"color\":\"yellow\",\"width\":3},\"mode\":\"lines\",\"x\":[0,0],\"y\":[0,0],\"z\":[0,11],\"type\":\"scatter3d\"},{\"line\":{\"color\":\"yellow\",\"width\":3},\"mode\":\"lines\",\"x\":[11,11],\"y\":[0,11],\"z\":[0,0],\"type\":\"scatter3d\"},{\"line\":{\"color\":\"yellow\",\"width\":3},\"mode\":\"lines\",\"x\":[11,11],\"y\":[0,0],\"z\":[0,11],\"type\":\"scatter3d\"},{\"line\":{\"color\":\"yellow\",\"width\":3},\"mode\":\"lines\",\"x\":[0,11],\"y\":[11,11],\"z\":[0,0],\"type\":\"scatter3d\"},{\"line\":{\"color\":\"yellow\",\"width\":3},\"mode\":\"lines\",\"x\":[0,0],\"y\":[11,11],\"z\":[0,11],\"type\":\"scatter3d\"},{\"line\":{\"color\":\"yellow\",\"width\":3},\"mode\":\"lines\",\"x\":[11,11],\"y\":[11,11],\"z\":[0,11],\"type\":\"scatter3d\"},{\"line\":{\"color\":\"yellow\",\"width\":3},\"mode\":\"lines\",\"x\":[0,11],\"y\":[0,0],\"z\":[11,11],\"type\":\"scatter3d\"},{\"line\":{\"color\":\"yellow\",\"width\":3},\"mode\":\"lines\",\"x\":[0,0],\"y\":[0,11],\"z\":[11,11],\"type\":\"scatter3d\"},{\"line\":{\"color\":\"yellow\",\"width\":3},\"mode\":\"lines\",\"x\":[11,11],\"y\":[0,11],\"z\":[11,11],\"type\":\"scatter3d\"},{\"line\":{\"color\":\"yellow\",\"width\":3},\"mode\":\"lines\",\"x\":[0,11],\"y\":[11,11],\"z\":[11,11],\"type\":\"scatter3d\"},{\"color\":\"#FC0080\",\"flatshading\":true,\"i\":[1,2,5,6,1,4,3,6,1,7,0,6],\"j\":[0,3,4,7,0,5,2,7,3,5,2,4],\"k\":[2,1,6,5,4,1,6,3,7,1,6,0],\"opacity\":1,\"x\":[1,5,1,5,1,5,1,5],\"y\":[0,0,3,3,0,0,3,3],\"z\":[0,0,0,0,3,3,3,3],\"type\":\"mesh3d\"},{\"line\":{\"color\":\"black\",\"width\":0},\"mode\":\"lines\",\"x\":[1,5],\"y\":[3,3],\"z\":[3,3],\"type\":\"scatter3d\"},{\"color\":\"#511CFB\",\"flatshading\":true,\"i\":[1,2,5,6,1,4,3,6,1,7,0,6],\"j\":[0,3,4,7,0,5,2,7,3,5,2,4],\"k\":[2,1,6,5,4,1,6,3,7,1,6,0],\"opacity\":1,\"x\":[9,11,9,11,9,11,9,11],\"y\":[1,1,5,5,1,1,5,5],\"z\":[0,0,0,0,4,4,4,4],\"type\":\"mesh3d\"},{\"line\":{\"color\":\"black\",\"width\":0},\"mode\":\"lines\",\"x\":[9,11],\"y\":[5,5],\"z\":[4,4],\"type\":\"scatter3d\"},{\"color\":\"#A777F1\",\"flatshading\":true,\"i\":[1,2,5,6,1,4,3,6,1,7,0,6],\"j\":[0,3,4,7,0,5,2,7,3,5,2,4],\"k\":[2,1,6,5,4,1,6,3,7,1,6,0],\"opacity\":1,\"x\":[2,3,2,3,2,3,2,3],\"y\":[3,3,8,8,3,3,8,8],\"z\":[0,0,0,0,3,3,3,3],\"type\":\"mesh3d\"},{\"line\":{\"color\":\"black\",\"width\":0},\"mode\":\"lines\",\"x\":[2,3],\"y\":[8,8],\"z\":[3,3],\"type\":\"scatter3d\"},{\"color\":\"#B2828D\",\"flatshading\":true,\"i\":[1,2,5,6,1,4,3,6,1,7,0,6],\"j\":[0,3,4,7,0,5,2,7,3,5,2,4],\"k\":[2,1,6,5,4,1,6,3,7,1,6,0],\"opacity\":1,\"x\":[5,6,5,6,5,6,5,6],\"y\":[5,5,10,10,5,5,10,10],\"z\":[0,0,0,0,2,2,2,2],\"type\":\"mesh3d\"},{\"line\":{\"color\":\"black\",\"width\":0},\"mode\":\"lines\",\"x\":[5,6],\"y\":[10,10],\"z\":[2,2],\"type\":\"scatter3d\"},{\"color\":\"#511CFB\",\"flatshading\":true,\"i\":[1,2,5,6,1,4,3,6,1,7,0,6],\"j\":[0,3,4,7,0,5,2,7,3,5,2,4],\"k\":[2,1,6,5,4,1,6,3,7,1,6,0],\"opacity\":1,\"x\":[0,1,0,1,0,1,0,1],\"y\":[5,5,10,10,5,5,10,10],\"z\":[0,0,0,0,1,1,1,1],\"type\":\"mesh3d\"},{\"line\":{\"color\":\"black\",\"width\":0},\"mode\":\"lines\",\"x\":[0,1],\"y\":[10,10],\"z\":[1,1],\"type\":\"scatter3d\"},{\"color\":\"#DA60CA\",\"flatshading\":true,\"i\":[1,2,5,6,1,4,3,6,1,7,0,6],\"j\":[0,3,4,7,0,5,2,7,3,5,2,4],\"k\":[2,1,6,5,4,1,6,3,7,1,6,0],\"opacity\":1,\"x\":[7,8,7,8,7,8,7,8],\"y\":[3,3,8,8,3,3,8,8],\"z\":[0,0,0,0,3,3,3,3],\"type\":\"mesh3d\"},{\"line\":{\"color\":\"black\",\"width\":0},\"mode\":\"lines\",\"x\":[7,8],\"y\":[8,8],\"z\":[3,3],\"type\":\"scatter3d\"},{\"color\":\"#511CFB\",\"flatshading\":true,\"i\":[1,2,5,6,1,4,3,6,1,7,0,6],\"j\":[0,3,4,7,0,5,2,7,3,5,2,4],\"k\":[2,1,6,5,4,1,6,3,7,1,6,0],\"opacity\":1,\"x\":[1,2,1,2,1,2,1,2],\"y\":[7,7,9,9,7,7,9,9],\"z\":[0,0,0,0,1,1,1,1],\"type\":\"mesh3d\"},{\"line\":{\"color\":\"black\",\"width\":0},\"mode\":\"lines\",\"x\":[1,2],\"y\":[9,9],\"z\":[1,1],\"type\":\"scatter3d\"},{\"color\":\"#862A16\",\"flatshading\":true,\"i\":[1,2,5,6,1,4,3,6,1,7,0,6],\"j\":[0,3,4,7,0,5,2,7,3,5,2,4],\"k\":[2,1,6,5,4,1,6,3,7,1,6,0],\"opacity\":1,\"x\":[6,10,6,10,6,10,6,10],\"y\":[10,10,11,11,10,10,11,11],\"z\":[0,0,0,0,2,2,2,2],\"type\":\"mesh3d\"},{\"line\":{\"color\":\"black\",\"width\":0},\"mode\":\"lines\",\"x\":[6,10],\"y\":[11,11],\"z\":[2,2],\"type\":\"scatter3d\"},{\"color\":\"#222A2A\",\"flatshading\":true,\"i\":[1,2,5,6,1,4,3,6,1,7,0,6],\"j\":[0,3,4,7,0,5,2,7,3,5,2,4],\"k\":[2,1,6,5,4,1,6,3,7,1,6,0],\"opacity\":1,\"x\":[9,10,9,10,9,10,9,10],\"y\":[1,1,5,5,1,1,5,5],\"z\":[4,4,4,4,9,9,9,9],\"type\":\"mesh3d\"},{\"line\":{\"color\":\"black\",\"width\":0},\"mode\":\"lines\",\"x\":[9,10],\"y\":[5,5],\"z\":[9,9],\"type\":\"scatter3d\"},{\"color\":\"#B68100\",\"flatshading\":true,\"i\":[1,2,5,6,1,4,3,6,1,7,0,6],\"j\":[0,3,4,7,0,5,2,7,3,5,2,4],\"k\":[2,1,6,5,4,1,6,3,7,1,6,0],\"opacity\":1,\"x\":[6,7,6,7,6,7,6,7],\"y\":[5,5,9,9,5,5,9,9],\"z\":[0,0,0,0,5,5,5,5],\"type\":\"mesh3d\"},{\"line\":{\"color\":\"black\",\"width\":0},\"mode\":\"lines\",\"x\":[6,7],\"y\":[9,9],\"z\":[5,5],\"type\":\"scatter3d\"},{\"color\":\"#862A16\",\"flatshading\":true,\"i\":[1,2,5,6,1,4,3,6,1,7,0,6],\"j\":[0,3,4,7,0,5,2,7,3,5,2,4],\"k\":[2,1,6,5,4,1,6,3,7,1,6,0],\"opacity\":1,\"x\":[2,4,2,4,2,4,2,4],\"y\":[0,0,2,2,0,0,2,2],\"z\":[3,3,3,3,4,4,4,4],\"type\":\"mesh3d\"},{\"line\":{\"color\":\"black\",\"width\":0},\"mode\":\"lines\",\"x\":[2,4],\"y\":[2,2],\"z\":[4,4],\"type\":\"scatter3d\"},{\"color\":\"#6C4516\",\"flatshading\":true,\"i\":[1,2,5,6,1,4,3,6,1,7,0,6],\"j\":[0,3,4,7,0,5,2,7,3,5,2,4],\"k\":[2,1,6,5,4,1,6,3,7,1,6,0],\"opacity\":1,\"x\":[8,9,8,9,8,9,8,9],\"y\":[1,1,9,9,1,1,9,9],\"z\":[0,0,0,0,1,1,1,1],\"type\":\"mesh3d\"},{\"line\":{\"color\":\"black\",\"width\":0},\"mode\":\"lines\",\"x\":[8,9],\"y\":[9,9],\"z\":[1,1],\"type\":\"scatter3d\"},{\"color\":\"#0D2A63\",\"flatshading\":true,\"i\":[1,2,5,6,1,4,3,6,1,7,0,6],\"j\":[0,3,4,7,0,5,2,7,3,5,2,4],\"k\":[2,1,6,5,4,1,6,3,7,1,6,0],\"opacity\":1,\"x\":[8,9,8,9,8,9,8,9],\"y\":[1,1,9,9,1,1,9,9],\"z\":[1,1,1,1,2,2,2,2],\"type\":\"mesh3d\"},{\"line\":{\"color\":\"black\",\"width\":0},\"mode\":\"lines\",\"x\":[8,9],\"y\":[9,9],\"z\":[2,2],\"type\":\"scatter3d\"},{\"color\":\"#0D2A63\",\"flatshading\":true,\"i\":[1,2,5,6,1,4,3,6,1,7,0,6],\"j\":[0,3,4,7,0,5,2,7,3,5,2,4],\"k\":[2,1,6,5,4,1,6,3,7,1,6,0],\"opacity\":1,\"x\":[9,10,9,10,9,10,9,10],\"y\":[2,2,5,5,2,2,5,5],\"z\":[9,9,9,9,11,11,11,11],\"type\":\"mesh3d\"},{\"line\":{\"color\":\"black\",\"width\":0},\"mode\":\"lines\",\"x\":[9,10],\"y\":[5,5],\"z\":[11,11],\"type\":\"scatter3d\"},{\"color\":\"#511CFB\",\"flatshading\":true,\"i\":[1,2,5,6,1,4,3,6,1,7,0,6],\"j\":[0,3,4,7,0,5,2,7,3,5,2,4],\"k\":[2,1,6,5,4,1,6,3,7,1,6,0],\"opacity\":1,\"x\":[6,7,6,7,6,7,6,7],\"y\":[5,5,9,9,5,5,9,9],\"z\":[5,5,5,5,9,9,9,9],\"type\":\"mesh3d\"},{\"line\":{\"color\":\"black\",\"width\":0},\"mode\":\"lines\",\"x\":[6,7],\"y\":[9,9],\"z\":[9,9],\"type\":\"scatter3d\"},{\"color\":\"#AF0038\",\"flatshading\":true,\"i\":[1,2,5,6,1,4,3,6,1,7,0,6],\"j\":[0,3,4,7,0,5,2,7,3,5,2,4],\"k\":[2,1,6,5,4,1,6,3,7,1,6,0],\"opacity\":1,\"x\":[5,6,5,6,5,6,5,6],\"y\":[3,3,4,4,3,3,4,4],\"z\":[0,0,0,0,5,5,5,5],\"type\":\"mesh3d\"},{\"line\":{\"color\":\"black\",\"width\":0},\"mode\":\"lines\",\"x\":[5,6],\"y\":[4,4],\"z\":[5,5],\"type\":\"scatter3d\"},{\"color\":\"#B68100\",\"flatshading\":true,\"i\":[1,2,5,6,1,4,3,6,1,7,0,6],\"j\":[0,3,4,7,0,5,2,7,3,5,2,4],\"k\":[2,1,6,5,4,1,6,3,7,1,6,0],\"opacity\":1,\"x\":[10,11,10,11,10,11,10,11],\"y\":[1,1,3,3,1,1,3,3],\"z\":[4,4,4,4,9,9,9,9],\"type\":\"mesh3d\"},{\"line\":{\"color\":\"black\",\"width\":0},\"mode\":\"lines\",\"x\":[10,11],\"y\":[3,3],\"z\":[9,9],\"type\":\"scatter3d\"},{\"color\":\"#750D86\",\"flatshading\":true,\"i\":[1,2,5,6,1,4,3,6,1,7,0,6],\"j\":[0,3,4,7,0,5,2,7,3,5,2,4],\"k\":[2,1,6,5,4,1,6,3,7,1,6,0],\"opacity\":1,\"x\":[7,8,7,8,7,8,7,8],\"y\":[8,8,10,10,8,8,10,10],\"z\":[0,0,0,0,5,5,5,5],\"type\":\"mesh3d\"},{\"line\":{\"color\":\"black\",\"width\":0},\"mode\":\"lines\",\"x\":[7,8],\"y\":[10,10],\"z\":[5,5],\"type\":\"scatter3d\"},{\"color\":\"#00A08B\",\"flatshading\":true,\"i\":[1,2,5,6,1,4,3,6,1,7,0,6],\"j\":[0,3,4,7,0,5,2,7,3,5,2,4],\"k\":[2,1,6,5,4,1,6,3,7,1,6,0],\"opacity\":1,\"x\":[8,9,8,9,8,9,8,9],\"y\":[2,2,6,6,2,2,6,6],\"z\":[2,2,2,2,5,5,5,5],\"type\":\"mesh3d\"},{\"line\":{\"color\":\"black\",\"width\":0},\"mode\":\"lines\",\"x\":[8,9],\"y\":[6,6],\"z\":[5,5],\"type\":\"scatter3d\"},{\"color\":\"#1CA71C\",\"flatshading\":true,\"i\":[1,2,5,6,1,4,3,6,1,7,0,6],\"j\":[0,3,4,7,0,5,2,7,3,5,2,4],\"k\":[2,1,6,5,4,1,6,3,7,1,6,0],\"opacity\":1,\"x\":[3,4,3,4,3,4,3,4],\"y\":[4,4,5,5,4,4,5,5],\"z\":[0,0,0,0,3,3,3,3],\"type\":\"mesh3d\"},{\"line\":{\"color\":\"black\",\"width\":0},\"mode\":\"lines\",\"x\":[3,4],\"y\":[5,5],\"z\":[3,3],\"type\":\"scatter3d\"},{\"color\":\"#B68100\",\"flatshading\":true,\"i\":[1,2,5,6,1,4,3,6,1,7,0,6],\"j\":[0,3,4,7,0,5,2,7,3,5,2,4],\"k\":[2,1,6,5,4,1,6,3,7,1,6,0],\"opacity\":1,\"x\":[2,5,2,5,2,5,2,5],\"y\":[9,9,10,10,9,9,10,10],\"z\":[0,0,0,0,2,2,2,2],\"type\":\"mesh3d\"},{\"line\":{\"color\":\"black\",\"width\":0},\"mode\":\"lines\",\"x\":[2,5],\"y\":[10,10],\"z\":[2,2],\"type\":\"scatter3d\"},{\"color\":\"#00A08B\",\"flatshading\":true,\"i\":[1,2,5,6,1,4,3,6,1,7,0,6],\"j\":[0,3,4,7,0,5,2,7,3,5,2,4],\"k\":[2,1,6,5,4,1,6,3,7,1,6,0],\"opacity\":1,\"x\":[2,5,2,5,2,5,2,5],\"y\":[2,2,3,3,2,2,3,3],\"z\":[3,3,3,3,6,6,6,6],\"type\":\"mesh3d\"},{\"line\":{\"color\":\"black\",\"width\":0},\"mode\":\"lines\",\"x\":[2,5],\"y\":[3,3],\"z\":[6,6],\"type\":\"scatter3d\"},{\"color\":\"#A777F1\",\"flatshading\":true,\"i\":[1,2,5,6,1,4,3,6,1,7,0,6],\"j\":[0,3,4,7,0,5,2,7,3,5,2,4],\"k\":[2,1,6,5,4,1,6,3,7,1,6,0],\"opacity\":1,\"x\":[5,8,5,8,5,8,5,8],\"y\":[2,2,3,3,2,2,3,3],\"z\":[0,0,0,0,5,5,5,5],\"type\":\"mesh3d\"},{\"line\":{\"color\":\"black\",\"width\":0},\"mode\":\"lines\",\"x\":[5,8],\"y\":[3,3],\"z\":[5,5],\"type\":\"scatter3d\"},{\"color\":\"#DA60CA\",\"flatshading\":true,\"i\":[1,2,5,6,1,4,3,6,1,7,0,6],\"j\":[0,3,4,7,0,5,2,7,3,5,2,4],\"k\":[2,1,6,5,4,1,6,3,7,1,6,0],\"opacity\":1,\"x\":[9,11,9,11,9,11,9,11],\"y\":[6,6,10,10,6,6,10,10],\"z\":[0,0,0,0,2,2,2,2],\"type\":\"mesh3d\"},{\"line\":{\"color\":\"black\",\"width\":0},\"mode\":\"lines\",\"x\":[9,11],\"y\":[10,10],\"z\":[2,2],\"type\":\"scatter3d\"},{\"color\":\"#6C4516\",\"flatshading\":true,\"i\":[1,2,5,6,1,4,3,6,1,7,0,6],\"j\":[0,3,4,7,0,5,2,7,3,5,2,4],\"k\":[2,1,6,5,4,1,6,3,7,1,6,0],\"opacity\":1,\"x\":[9,11,9,11,9,11,9,11],\"y\":[6,6,10,10,6,6,10,10],\"z\":[2,2,2,2,4,4,4,4],\"type\":\"mesh3d\"},{\"line\":{\"color\":\"black\",\"width\":0},\"mode\":\"lines\",\"x\":[9,11],\"y\":[10,10],\"z\":[4,4],\"type\":\"scatter3d\"},{\"color\":\"#778AAE\",\"flatshading\":true,\"i\":[1,2,5,6,1,4,3,6,1,7,0,6],\"j\":[0,3,4,7,0,5,2,7,3,5,2,4],\"k\":[2,1,6,5,4,1,6,3,7,1,6,0],\"opacity\":1,\"x\":[7,11,7,11,7,11,7,11],\"y\":[0,0,1,1,0,0,1,1],\"z\":[0,0,0,0,2,2,2,2],\"type\":\"mesh3d\"},{\"line\":{\"color\":\"black\",\"width\":0},\"mode\":\"lines\",\"x\":[7,11],\"y\":[1,1],\"z\":[2,2],\"type\":\"scatter3d\"},{\"color\":\"#FC0080\",\"flatshading\":true,\"i\":[1,2,5,6,1,4,3,6,1,7,0,6],\"j\":[0,3,4,7,0,5,2,7,3,5,2,4],\"k\":[2,1,6,5,4,1,6,3,7,1,6,0],\"opacity\":1,\"x\":[1,5,1,5,1,5,1,5],\"y\":[10,10,11,11,10,10,11,11],\"z\":[0,0,0,0,1,1,1,1],\"type\":\"mesh3d\"},{\"line\":{\"color\":\"black\",\"width\":0},\"mode\":\"lines\",\"x\":[1,5],\"y\":[11,11],\"z\":[1,1],\"type\":\"scatter3d\"},{\"color\":\"#6C7C32\",\"flatshading\":true,\"i\":[1,2,5,6,1,4,3,6,1,7,0,6],\"j\":[0,3,4,7,0,5,2,7,3,5,2,4],\"k\":[2,1,6,5,4,1,6,3,7,1,6,0],\"opacity\":1,\"x\":[5,7,5,7,5,7,5,7],\"y\":[2,2,3,3,2,2,3,3],\"z\":[5,5,5,5,6,6,6,6],\"type\":\"mesh3d\"},{\"line\":{\"color\":\"black\",\"width\":0},\"mode\":\"lines\",\"x\":[5,7],\"y\":[3,3],\"z\":[6,6],\"type\":\"scatter3d\"},{\"color\":\"#862A16\",\"flatshading\":true,\"i\":[1,2,5,6,1,4,3,6,1,7,0,6],\"j\":[0,3,4,7,0,5,2,7,3,5,2,4],\"k\":[2,1,6,5,4,1,6,3,7,1,6,0],\"opacity\":1,\"x\":[4,7,4,7,4,7,4,7],\"y\":[4,4,5,5,4,4,5,5],\"z\":[0,0,0,0,1,1,1,1],\"type\":\"mesh3d\"},{\"line\":{\"color\":\"black\",\"width\":0},\"mode\":\"lines\",\"x\":[4,7],\"y\":[5,5],\"z\":[1,1],\"type\":\"scatter3d\"},{\"color\":\"#0D2A63\",\"flatshading\":true,\"i\":[1,2,5,6,1,4,3,6,1,7,0,6],\"j\":[0,3,4,7,0,5,2,7,3,5,2,4],\"k\":[2,1,6,5,4,1,6,3,7,1,6,0],\"opacity\":1,\"x\":[1,5,1,5,1,5,1,5],\"y\":[10,10,11,11,10,10,11,11],\"z\":[1,1,1,1,2,2,2,2],\"type\":\"mesh3d\"},{\"line\":{\"color\":\"black\",\"width\":0},\"mode\":\"lines\",\"x\":[1,5],\"y\":[11,11],\"z\":[2,2],\"type\":\"scatter3d\"},{\"color\":\"#B68100\",\"flatshading\":true,\"i\":[1,2,5,6,1,4,3,6,1,7,0,6],\"j\":[0,3,4,7,0,5,2,7,3,5,2,4],\"k\":[2,1,6,5,4,1,6,3,7,1,6,0],\"opacity\":1,\"x\":[7,10,7,10,7,10,7,10],\"y\":[10,10,11,11,10,10,11,11],\"z\":[2,2,2,2,4,4,4,4],\"type\":\"mesh3d\"},{\"line\":{\"color\":\"black\",\"width\":0},\"mode\":\"lines\",\"x\":[7,10],\"y\":[11,11],\"z\":[4,4],\"type\":\"scatter3d\"},{\"color\":\"#FC0080\",\"flatshading\":true,\"i\":[1,2,5,6,1,4,3,6,1,7,0,6],\"j\":[0,3,4,7,0,5,2,7,3,5,2,4],\"k\":[2,1,6,5,4,1,6,3,7,1,6,0],\"opacity\":1,\"x\":[7,8,7,8,7,8,7,8],\"y\":[4,4,8,8,4,4,8,8],\"z\":[3,3,3,3,5,5,5,5],\"type\":\"mesh3d\"},{\"line\":{\"color\":\"black\",\"width\":0},\"mode\":\"lines\",\"x\":[7,8],\"y\":[8,8],\"z\":[5,5],\"type\":\"scatter3d\"},{\"color\":\"#B2828D\",\"flatshading\":true,\"i\":[1,2,5,6,1,4,3,6,1,7,0,6],\"j\":[0,3,4,7,0,5,2,7,3,5,2,4],\"k\":[2,1,6,5,4,1,6,3,7,1,6,0],\"opacity\":1,\"x\":[3,4,3,4,3,4,3,4],\"y\":[5,5,9,9,5,5,9,9],\"z\":[0,0,0,0,2,2,2,2],\"type\":\"mesh3d\"},{\"line\":{\"color\":\"black\",\"width\":0},\"mode\":\"lines\",\"x\":[3,4],\"y\":[9,9],\"z\":[2,2],\"type\":\"scatter3d\"},{\"color\":\"#511CFB\",\"flatshading\":true,\"i\":[1,2,5,6,1,4,3,6,1,7,0,6],\"j\":[0,3,4,7,0,5,2,7,3,5,2,4],\"k\":[2,1,6,5,4,1,6,3,7,1,6,0],\"opacity\":1,\"x\":[2,5,2,5,2,5,2,5],\"y\":[10,10,11,11,10,10,11,11],\"z\":[2,2,2,2,3,3,3,3],\"type\":\"mesh3d\"},{\"line\":{\"color\":\"black\",\"width\":0},\"mode\":\"lines\",\"x\":[2,5],\"y\":[11,11],\"z\":[3,3],\"type\":\"scatter3d\"},{\"color\":\"#EB663B\",\"flatshading\":true,\"i\":[1,2,5,6,1,4,3,6,1,7,0,6],\"j\":[0,3,4,7,0,5,2,7,3,5,2,4],\"k\":[2,1,6,5,4,1,6,3,7,1,6,0],\"opacity\":1,\"x\":[0,1,0,1,0,1,0,1],\"y\":[8,8,9,9,8,8,9,9],\"z\":[1,1,1,1,2,2,2,2],\"type\":\"mesh3d\"},{\"line\":{\"color\":\"black\",\"width\":0},\"mode\":\"lines\",\"x\":[0,1],\"y\":[9,9],\"z\":[2,2],\"type\":\"scatter3d\"},{\"color\":\"#AF0038\",\"flatshading\":true,\"i\":[1,2,5,6,1,4,3,6,1,7,0,6],\"j\":[0,3,4,7,0,5,2,7,3,5,2,4],\"k\":[2,1,6,5,4,1,6,3,7,1,6,0],\"opacity\":1,\"x\":[2,7,2,7,2,7,2,7],\"y\":[2,2,3,3,2,2,3,3],\"z\":[6,6,6,6,9,9,9,9],\"type\":\"mesh3d\"},{\"line\":{\"color\":\"black\",\"width\":0},\"mode\":\"lines\",\"x\":[2,7],\"y\":[3,3],\"z\":[9,9],\"type\":\"scatter3d\"},{\"color\":\"#A777F1\",\"flatshading\":true,\"i\":[1,2,5,6,1,4,3,6,1,7,0,6],\"j\":[0,3,4,7,0,5,2,7,3,5,2,4],\"k\":[2,1,6,5,4,1,6,3,7,1,6,0],\"opacity\":1,\"x\":[4,7,4,7,4,7,4,7],\"y\":[2,2,3,3,2,2,3,3],\"z\":[9,9,9,9,11,11,11,11],\"type\":\"mesh3d\"},{\"line\":{\"color\":\"black\",\"width\":0},\"mode\":\"lines\",\"x\":[4,7],\"y\":[3,3],\"z\":[11,11],\"type\":\"scatter3d\"},{\"color\":\"#B2828D\",\"flatshading\":true,\"i\":[1,2,5,6,1,4,3,6,1,7,0,6],\"j\":[0,3,4,7,0,5,2,7,3,5,2,4],\"k\":[2,1,6,5,4,1,6,3,7,1,6,0],\"opacity\":1,\"x\":[3,4,3,4,3,4,3,4],\"y\":[10,10,11,11,10,10,11,11],\"z\":[3,3,3,3,4,4,4,4],\"type\":\"mesh3d\"},{\"line\":{\"color\":\"black\",\"width\":0},\"mode\":\"lines\",\"x\":[3,4],\"y\":[11,11],\"z\":[4,4],\"type\":\"scatter3d\"},{\"color\":\"#0D2A63\",\"flatshading\":true,\"i\":[1,2,5,6,1,4,3,6,1,7,0,6],\"j\":[0,3,4,7,0,5,2,7,3,5,2,4],\"k\":[2,1,6,5,4,1,6,3,7,1,6,0],\"opacity\":1,\"x\":[2,3,2,3,2,3,2,3],\"y\":[9,9,10,10,9,9,10,10],\"z\":[2,2,2,2,4,4,4,4],\"type\":\"mesh3d\"},{\"line\":{\"color\":\"black\",\"width\":0},\"mode\":\"lines\",\"x\":[2,3],\"y\":[10,10],\"z\":[4,4],\"type\":\"scatter3d\"},{\"color\":\"#2E91E5\",\"flatshading\":true,\"i\":[1,2,5,6,1,4,3,6,1,7,0,6],\"j\":[0,3,4,7,0,5,2,7,3,5,2,4],\"k\":[2,1,6,5,4,1,6,3,7,1,6,0],\"opacity\":1,\"x\":[2,3,2,3,2,3,2,3],\"y\":[7,7,8,8,7,7,8,8],\"z\":[3,3,3,3,6,6,6,6],\"type\":\"mesh3d\"},{\"line\":{\"color\":\"black\",\"width\":0},\"mode\":\"lines\",\"x\":[2,3],\"y\":[8,8],\"z\":[6,6],\"type\":\"scatter3d\"},{\"color\":\"#DA16FF\",\"flatshading\":true,\"i\":[1,2,5,6,1,4,3,6,1,7,0,6],\"j\":[0,3,4,7,0,5,2,7,3,5,2,4],\"k\":[2,1,6,5,4,1,6,3,7,1,6,0],\"opacity\":1,\"x\":[4,7,4,7,4,7,4,7],\"y\":[4,4,5,5,4,4,5,5],\"z\":[1,1,1,1,3,3,3,3],\"type\":\"mesh3d\"},{\"line\":{\"color\":\"black\",\"width\":0},\"mode\":\"lines\",\"x\":[4,7],\"y\":[5,5],\"z\":[3,3],\"type\":\"scatter3d\"},{\"color\":\"#B68100\",\"flatshading\":true,\"i\":[1,2,5,6,1,4,3,6,1,7,0,6],\"j\":[0,3,4,7,0,5,2,7,3,5,2,4],\"k\":[2,1,6,5,4,1,6,3,7,1,6,0],\"opacity\":1,\"x\":[9,11,9,11,9,11,9,11],\"y\":[7,7,10,10,7,7,10,10],\"z\":[4,4,4,4,5,5,5,5],\"type\":\"mesh3d\"},{\"line\":{\"color\":\"black\",\"width\":0},\"mode\":\"lines\",\"x\":[9,11],\"y\":[10,10],\"z\":[5,5],\"type\":\"scatter3d\"},{\"color\":\"#B2828D\",\"flatshading\":true,\"i\":[1,2,5,6,1,4,3,6,1,7,0,6],\"j\":[0,3,4,7,0,5,2,7,3,5,2,4],\"k\":[2,1,6,5,4,1,6,3,7,1,6,0],\"opacity\":1,\"x\":[7,10,7,10,7,10,7,10],\"y\":[0,0,1,1,0,0,1,1],\"z\":[2,2,2,2,5,5,5,5],\"type\":\"mesh3d\"},{\"line\":{\"color\":\"black\",\"width\":0},\"mode\":\"lines\",\"x\":[7,10],\"y\":[1,1],\"z\":[5,5],\"type\":\"scatter3d\"},{\"color\":\"#6C7C32\",\"flatshading\":true,\"i\":[1,2,5,6,1,4,3,6,1,7,0,6],\"j\":[0,3,4,7,0,5,2,7,3,5,2,4],\"k\":[2,1,6,5,4,1,6,3,7,1,6,0],\"opacity\":1,\"x\":[5,7,5,7,5,7,5,7],\"y\":[0,0,2,2,0,0,2,2],\"z\":[0,0,0,0,2,2,2,2],\"type\":\"mesh3d\"},{\"line\":{\"color\":\"black\",\"width\":0},\"mode\":\"lines\",\"x\":[5,7],\"y\":[2,2],\"z\":[2,2],\"type\":\"scatter3d\"},{\"color\":\"#778AAE\",\"flatshading\":true,\"i\":[1,2,5,6,1,4,3,6,1,7,0,6],\"j\":[0,3,4,7,0,5,2,7,3,5,2,4],\"k\":[2,1,6,5,4,1,6,3,7,1,6,0],\"opacity\":1,\"x\":[7,9,7,9,7,9,7,9],\"y\":[4,4,6,6,4,4,6,6],\"z\":[5,5,5,5,7,7,7,7],\"type\":\"mesh3d\"},{\"line\":{\"color\":\"black\",\"width\":0},\"mode\":\"lines\",\"x\":[7,9],\"y\":[6,6],\"z\":[7,7],\"type\":\"scatter3d\"}],                        {\"template\":{\"data\":{\"histogram2dcontour\":[{\"type\":\"histogram2dcontour\",\"colorbar\":{\"outlinewidth\":0,\"ticks\":\"\"},\"colorscale\":[[0.0,\"#0d0887\"],[0.1111111111111111,\"#46039f\"],[0.2222222222222222,\"#7201a8\"],[0.3333333333333333,\"#9c179e\"],[0.4444444444444444,\"#bd3786\"],[0.5555555555555556,\"#d8576b\"],[0.6666666666666666,\"#ed7953\"],[0.7777777777777778,\"#fb9f3a\"],[0.8888888888888888,\"#fdca26\"],[1.0,\"#f0f921\"]]}],\"choropleth\":[{\"type\":\"choropleth\",\"colorbar\":{\"outlinewidth\":0,\"ticks\":\"\"}}],\"histogram2d\":[{\"type\":\"histogram2d\",\"colorbar\":{\"outlinewidth\":0,\"ticks\":\"\"},\"colorscale\":[[0.0,\"#0d0887\"],[0.1111111111111111,\"#46039f\"],[0.2222222222222222,\"#7201a8\"],[0.3333333333333333,\"#9c179e\"],[0.4444444444444444,\"#bd3786\"],[0.5555555555555556,\"#d8576b\"],[0.6666666666666666,\"#ed7953\"],[0.7777777777777778,\"#fb9f3a\"],[0.8888888888888888,\"#fdca26\"],[1.0,\"#f0f921\"]]}],\"heatmap\":[{\"type\":\"heatmap\",\"colorbar\":{\"outlinewidth\":0,\"ticks\":\"\"},\"colorscale\":[[0.0,\"#0d0887\"],[0.1111111111111111,\"#46039f\"],[0.2222222222222222,\"#7201a8\"],[0.3333333333333333,\"#9c179e\"],[0.4444444444444444,\"#bd3786\"],[0.5555555555555556,\"#d8576b\"],[0.6666666666666666,\"#ed7953\"],[0.7777777777777778,\"#fb9f3a\"],[0.8888888888888888,\"#fdca26\"],[1.0,\"#f0f921\"]]}],\"heatmapgl\":[{\"type\":\"heatmapgl\",\"colorbar\":{\"outlinewidth\":0,\"ticks\":\"\"},\"colorscale\":[[0.0,\"#0d0887\"],[0.1111111111111111,\"#46039f\"],[0.2222222222222222,\"#7201a8\"],[0.3333333333333333,\"#9c179e\"],[0.4444444444444444,\"#bd3786\"],[0.5555555555555556,\"#d8576b\"],[0.6666666666666666,\"#ed7953\"],[0.7777777777777778,\"#fb9f3a\"],[0.8888888888888888,\"#fdca26\"],[1.0,\"#f0f921\"]]}],\"contourcarpet\":[{\"type\":\"contourcarpet\",\"colorbar\":{\"outlinewidth\":0,\"ticks\":\"\"}}],\"contour\":[{\"type\":\"contour\",\"colorbar\":{\"outlinewidth\":0,\"ticks\":\"\"},\"colorscale\":[[0.0,\"#0d0887\"],[0.1111111111111111,\"#46039f\"],[0.2222222222222222,\"#7201a8\"],[0.3333333333333333,\"#9c179e\"],[0.4444444444444444,\"#bd3786\"],[0.5555555555555556,\"#d8576b\"],[0.6666666666666666,\"#ed7953\"],[0.7777777777777778,\"#fb9f3a\"],[0.8888888888888888,\"#fdca26\"],[1.0,\"#f0f921\"]]}],\"surface\":[{\"type\":\"surface\",\"colorbar\":{\"outlinewidth\":0,\"ticks\":\"\"},\"colorscale\":[[0.0,\"#0d0887\"],[0.1111111111111111,\"#46039f\"],[0.2222222222222222,\"#7201a8\"],[0.3333333333333333,\"#9c179e\"],[0.4444444444444444,\"#bd3786\"],[0.5555555555555556,\"#d8576b\"],[0.6666666666666666,\"#ed7953\"],[0.7777777777777778,\"#fb9f3a\"],[0.8888888888888888,\"#fdca26\"],[1.0,\"#f0f921\"]]}],\"mesh3d\":[{\"type\":\"mesh3d\",\"colorbar\":{\"outlinewidth\":0,\"ticks\":\"\"}}],\"scatter\":[{\"marker\":{\"line\":{\"color\":\"#283442\"}},\"type\":\"scatter\"}],\"parcoords\":[{\"type\":\"parcoords\",\"line\":{\"colorbar\":{\"outlinewidth\":0,\"ticks\":\"\"}}}],\"scatterpolargl\":[{\"type\":\"scatterpolargl\",\"marker\":{\"colorbar\":{\"outlinewidth\":0,\"ticks\":\"\"}}}],\"bar\":[{\"error_x\":{\"color\":\"#f2f5fa\"},\"error_y\":{\"color\":\"#f2f5fa\"},\"marker\":{\"line\":{\"color\":\"rgb(17,17,17)\",\"width\":0.5},\"pattern\":{\"fillmode\":\"overlay\",\"size\":10,\"solidity\":0.2}},\"type\":\"bar\"}],\"scattergeo\":[{\"type\":\"scattergeo\",\"marker\":{\"colorbar\":{\"outlinewidth\":0,\"ticks\":\"\"}}}],\"scatterpolar\":[{\"type\":\"scatterpolar\",\"marker\":{\"colorbar\":{\"outlinewidth\":0,\"ticks\":\"\"}}}],\"histogram\":[{\"marker\":{\"pattern\":{\"fillmode\":\"overlay\",\"size\":10,\"solidity\":0.2}},\"type\":\"histogram\"}],\"scattergl\":[{\"marker\":{\"line\":{\"color\":\"#283442\"}},\"type\":\"scattergl\"}],\"scatter3d\":[{\"type\":\"scatter3d\",\"line\":{\"colorbar\":{\"outlinewidth\":0,\"ticks\":\"\"}},\"marker\":{\"colorbar\":{\"outlinewidth\":0,\"ticks\":\"\"}}}],\"scattermapbox\":[{\"type\":\"scattermapbox\",\"marker\":{\"colorbar\":{\"outlinewidth\":0,\"ticks\":\"\"}}}],\"scatterternary\":[{\"type\":\"scatterternary\",\"marker\":{\"colorbar\":{\"outlinewidth\":0,\"ticks\":\"\"}}}],\"scattercarpet\":[{\"type\":\"scattercarpet\",\"marker\":{\"colorbar\":{\"outlinewidth\":0,\"ticks\":\"\"}}}],\"carpet\":[{\"aaxis\":{\"endlinecolor\":\"#A2B1C6\",\"gridcolor\":\"#506784\",\"linecolor\":\"#506784\",\"minorgridcolor\":\"#506784\",\"startlinecolor\":\"#A2B1C6\"},\"baxis\":{\"endlinecolor\":\"#A2B1C6\",\"gridcolor\":\"#506784\",\"linecolor\":\"#506784\",\"minorgridcolor\":\"#506784\",\"startlinecolor\":\"#A2B1C6\"},\"type\":\"carpet\"}],\"table\":[{\"cells\":{\"fill\":{\"color\":\"#506784\"},\"line\":{\"color\":\"rgb(17,17,17)\"}},\"header\":{\"fill\":{\"color\":\"#2a3f5f\"},\"line\":{\"color\":\"rgb(17,17,17)\"}},\"type\":\"table\"}],\"barpolar\":[{\"marker\":{\"line\":{\"color\":\"rgb(17,17,17)\",\"width\":0.5},\"pattern\":{\"fillmode\":\"overlay\",\"size\":10,\"solidity\":0.2}},\"type\":\"barpolar\"}],\"pie\":[{\"automargin\":true,\"type\":\"pie\"}]},\"layout\":{\"autotypenumbers\":\"strict\",\"colorway\":[\"#636efa\",\"#EF553B\",\"#00cc96\",\"#ab63fa\",\"#FFA15A\",\"#19d3f3\",\"#FF6692\",\"#B6E880\",\"#FF97FF\",\"#FECB52\"],\"font\":{\"color\":\"#f2f5fa\"},\"hovermode\":\"closest\",\"hoverlabel\":{\"align\":\"left\"},\"paper_bgcolor\":\"rgb(17,17,17)\",\"plot_bgcolor\":\"rgb(17,17,17)\",\"polar\":{\"bgcolor\":\"rgb(17,17,17)\",\"angularaxis\":{\"gridcolor\":\"#506784\",\"linecolor\":\"#506784\",\"ticks\":\"\"},\"radialaxis\":{\"gridcolor\":\"#506784\",\"linecolor\":\"#506784\",\"ticks\":\"\"}},\"ternary\":{\"bgcolor\":\"rgb(17,17,17)\",\"aaxis\":{\"gridcolor\":\"#506784\",\"linecolor\":\"#506784\",\"ticks\":\"\"},\"baxis\":{\"gridcolor\":\"#506784\",\"linecolor\":\"#506784\",\"ticks\":\"\"},\"caxis\":{\"gridcolor\":\"#506784\",\"linecolor\":\"#506784\",\"ticks\":\"\"}},\"coloraxis\":{\"colorbar\":{\"outlinewidth\":0,\"ticks\":\"\"}},\"colorscale\":{\"sequential\":[[0.0,\"#0d0887\"],[0.1111111111111111,\"#46039f\"],[0.2222222222222222,\"#7201a8\"],[0.3333333333333333,\"#9c179e\"],[0.4444444444444444,\"#bd3786\"],[0.5555555555555556,\"#d8576b\"],[0.6666666666666666,\"#ed7953\"],[0.7777777777777778,\"#fb9f3a\"],[0.8888888888888888,\"#fdca26\"],[1.0,\"#f0f921\"]],\"sequentialminus\":[[0.0,\"#0d0887\"],[0.1111111111111111,\"#46039f\"],[0.2222222222222222,\"#7201a8\"],[0.3333333333333333,\"#9c179e\"],[0.4444444444444444,\"#bd3786\"],[0.5555555555555556,\"#d8576b\"],[0.6666666666666666,\"#ed7953\"],[0.7777777777777778,\"#fb9f3a\"],[0.8888888888888888,\"#fdca26\"],[1.0,\"#f0f921\"]],\"diverging\":[[0,\"#8e0152\"],[0.1,\"#c51b7d\"],[0.2,\"#de77ae\"],[0.3,\"#f1b6da\"],[0.4,\"#fde0ef\"],[0.5,\"#f7f7f7\"],[0.6,\"#e6f5d0\"],[0.7,\"#b8e186\"],[0.8,\"#7fbc41\"],[0.9,\"#4d9221\"],[1,\"#276419\"]]},\"xaxis\":{\"gridcolor\":\"#283442\",\"linecolor\":\"#506784\",\"ticks\":\"\",\"title\":{\"standoff\":15},\"zerolinecolor\":\"#283442\",\"automargin\":true,\"zerolinewidth\":2},\"yaxis\":{\"gridcolor\":\"#283442\",\"linecolor\":\"#506784\",\"ticks\":\"\",\"title\":{\"standoff\":15},\"zerolinecolor\":\"#283442\",\"automargin\":true,\"zerolinewidth\":2},\"scene\":{\"xaxis\":{\"backgroundcolor\":\"rgb(17,17,17)\",\"gridcolor\":\"#506784\",\"linecolor\":\"#506784\",\"showbackground\":true,\"ticks\":\"\",\"zerolinecolor\":\"#C8D4E3\",\"gridwidth\":2},\"yaxis\":{\"backgroundcolor\":\"rgb(17,17,17)\",\"gridcolor\":\"#506784\",\"linecolor\":\"#506784\",\"showbackground\":true,\"ticks\":\"\",\"zerolinecolor\":\"#C8D4E3\",\"gridwidth\":2},\"zaxis\":{\"backgroundcolor\":\"rgb(17,17,17)\",\"gridcolor\":\"#506784\",\"linecolor\":\"#506784\",\"showbackground\":true,\"ticks\":\"\",\"zerolinecolor\":\"#C8D4E3\",\"gridwidth\":2}},\"shapedefaults\":{\"line\":{\"color\":\"#f2f5fa\"}},\"annotationdefaults\":{\"arrowcolor\":\"#f2f5fa\",\"arrowhead\":0,\"arrowwidth\":1},\"geo\":{\"bgcolor\":\"rgb(17,17,17)\",\"landcolor\":\"rgb(17,17,17)\",\"subunitcolor\":\"#506784\",\"showland\":true,\"showlakes\":true,\"lakecolor\":\"rgb(17,17,17)\"},\"title\":{\"x\":0.05},\"updatemenudefaults\":{\"bgcolor\":\"#506784\",\"borderwidth\":0},\"sliderdefaults\":{\"bgcolor\":\"#C8D4E3\",\"borderwidth\":1,\"bordercolor\":\"rgb(17,17,17)\",\"tickwidth\":0},\"mapbox\":{\"style\":\"dark\"}}},\"scene\":{\"camera\":{\"eye\":{\"x\":2,\"y\":2,\"z\":0.1}},\"xaxis\":{\"nticks\":13,\"range\":[0,16],\"showgrid\":false,\"showticklabels\":false},\"yaxis\":{\"nticks\":13,\"range\":[0,16],\"showgrid\":false,\"showticklabels\":false},\"zaxis\":{\"nticks\":13,\"range\":[0,16],\"showgrid\":false,\"showticklabels\":false},\"aspectmode\":\"cube\"},\"showlegend\":false,\"width\":1200,\"height\":1200,\"margin\":{\"r\":20,\"l\":10,\"b\":10,\"t\":10}},                        {\"responsive\": true}                    ).then(function(){\n",
       "                            \n",
       "var gd = document.getElementById('22f7920c-cbdc-470b-813c-2de207b8aff6');\n",
       "var x = new MutationObserver(function (mutations, observer) {{\n",
       "        var display = window.getComputedStyle(gd).display;\n",
       "        if (!display || display === 'none') {{\n",
       "            console.log([gd, 'removed!']);\n",
       "            Plotly.purge(gd);\n",
       "            observer.disconnect();\n",
       "        }}\n",
       "}});\n",
       "\n",
       "// Listen for the removal of the full notebook cells\n",
       "var notebookContainer = gd.closest('#notebook-container');\n",
       "if (notebookContainer) {{\n",
       "    x.observe(notebookContainer, {childList: true});\n",
       "}}\n",
       "\n",
       "// Listen for the clearing of the current output cell\n",
       "var outputEl = gd.closest('.output');\n",
       "if (outputEl) {{\n",
       "    x.observe(outputEl, {childList: true});\n",
       "}}\n",
       "\n",
       "                        })                };                });            </script>        </div>"
      ]
     },
     "metadata": {},
     "output_type": "display_data"
    }
   ],
   "source": []
  }
 ],
 "metadata": {
  "kernelspec": {
   "display_name": "pytorch",
   "language": "python",
   "name": "python3"
  },
  "language_info": {
   "codemirror_mode": {
    "name": "ipython",
    "version": 3
   },
   "file_extension": ".py",
   "mimetype": "text/x-python",
   "name": "python",
   "nbconvert_exporter": "python",
   "pygments_lexer": "ipython3",
   "version": "3.11.5"
  }
 },
 "nbformat": 4,
 "nbformat_minor": 0
}
