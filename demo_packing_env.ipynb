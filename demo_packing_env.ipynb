{
 "cells": [
  {
   "cell_type": "markdown",
   "metadata": {
    "collapsed": false,
    "pycharm": {
     "name": "#%% md\n"
    }
   },
   "source": [
    "# Demo for the Gym environment\n",
    "\n",
    "In this notebook we test the gym environment for the packing problem with a random agent."
   ]
  },
  {
   "cell_type": "code",
   "execution_count": 5,
   "metadata": {
    "collapsed": false,
    "pycharm": {
     "name": "#%%\n"
    }
   },
   "outputs": [],
   "source": [
    "# Add parent directory to path\n",
    "import os\n",
    "import sys\n",
    "\n",
    "p_dir = \"/hdd/junxuanl/ML-proj-BPP/src\"\n",
    "\n",
    "if p_dir not in sys.path:\n",
    "    sys.path.append(p_dir)\n"
   ]
  },
  {
   "cell_type": "code",
   "execution_count": 8,
   "metadata": {
    "collapsed": false,
    "pycharm": {
     "name": "#%%\n"
    }
   },
   "outputs": [],
   "source": [
    "# Create the environment\n",
    "from src.utils import boxes_generator\n",
    "from gym import make\n",
    "import warnings\n",
    "\n",
    "#Ignore plotly and gym deprecation warnings\n",
    "warnings.filterwarnings(\"ignore\", category=DeprecationWarning)"
   ]
  },
  {
   "cell_type": "code",
   "execution_count": 7,
   "metadata": {
    "collapsed": false,
    "pycharm": {
     "name": "#%%\n"
    }
   },
   "outputs": [
    {
     "name": "stderr",
     "output_type": "stream",
     "text": [
      "/home/junxuanl/miniconda3/envs/binpacking/lib/python3.8/site-packages/gym/utils/passive_env_checker.py:195: UserWarning:\n",
      "\n",
      "\u001b[33mWARN: The result returned by `env.reset()` was not a tuple of the form `(obs, info)`, where `obs` is a observation and `info` is a dictionary containing additional information. Actual type: `<class 'dict'>`\u001b[0m\n",
      "\n",
      " 26%|██▋       | 21/80 [03:49<10:44, 10.92s/it]"
     ]
    },
    {
     "name": "stdout",
     "output_type": "stream",
     "text": [
      "22\n",
      "5\n"
     ]
    },
    {
     "name": "stderr",
     "output_type": "stream",
     "text": [
      "\n"
     ]
    },
    {
     "data": {
      "application/vnd.plotly.v1+json": {
       "config": {
        "plotlyServerURL": "https://plot.ly"
       },
       "data": [
        {
         "line": {
          "color": "yellow",
          "width": 3
         },
         "mode": "lines",
         "type": "scatter3d",
         "x": [
          0,
          100
         ],
         "y": [
          0,
          0
         ],
         "z": [
          0,
          0
         ]
        },
        {
         "line": {
          "color": "yellow",
          "width": 3
         },
         "mode": "lines",
         "type": "scatter3d",
         "x": [
          0,
          0
         ],
         "y": [
          0,
          100
         ],
         "z": [
          0,
          0
         ]
        },
        {
         "line": {
          "color": "yellow",
          "width": 3
         },
         "mode": "lines",
         "type": "scatter3d",
         "x": [
          0,
          0
         ],
         "y": [
          0,
          0
         ],
         "z": [
          0,
          100
         ]
        },
        {
         "line": {
          "color": "yellow",
          "width": 3
         },
         "mode": "lines",
         "type": "scatter3d",
         "x": [
          100,
          100
         ],
         "y": [
          0,
          100
         ],
         "z": [
          0,
          0
         ]
        },
        {
         "line": {
          "color": "yellow",
          "width": 3
         },
         "mode": "lines",
         "type": "scatter3d",
         "x": [
          100,
          100
         ],
         "y": [
          0,
          0
         ],
         "z": [
          0,
          100
         ]
        },
        {
         "line": {
          "color": "yellow",
          "width": 3
         },
         "mode": "lines",
         "type": "scatter3d",
         "x": [
          0,
          100
         ],
         "y": [
          100,
          100
         ],
         "z": [
          0,
          0
         ]
        },
        {
         "line": {
          "color": "yellow",
          "width": 3
         },
         "mode": "lines",
         "type": "scatter3d",
         "x": [
          0,
          0
         ],
         "y": [
          100,
          100
         ],
         "z": [
          0,
          100
         ]
        },
        {
         "line": {
          "color": "yellow",
          "width": 3
         },
         "mode": "lines",
         "type": "scatter3d",
         "x": [
          100,
          100
         ],
         "y": [
          100,
          100
         ],
         "z": [
          0,
          100
         ]
        },
        {
         "line": {
          "color": "yellow",
          "width": 3
         },
         "mode": "lines",
         "type": "scatter3d",
         "x": [
          0,
          100
         ],
         "y": [
          0,
          0
         ],
         "z": [
          100,
          100
         ]
        },
        {
         "line": {
          "color": "yellow",
          "width": 3
         },
         "mode": "lines",
         "type": "scatter3d",
         "x": [
          0,
          0
         ],
         "y": [
          0,
          100
         ],
         "z": [
          100,
          100
         ]
        },
        {
         "line": {
          "color": "yellow",
          "width": 3
         },
         "mode": "lines",
         "type": "scatter3d",
         "x": [
          100,
          100
         ],
         "y": [
          0,
          100
         ],
         "z": [
          100,
          100
         ]
        },
        {
         "line": {
          "color": "yellow",
          "width": 3
         },
         "mode": "lines",
         "type": "scatter3d",
         "x": [
          0,
          100
         ],
         "y": [
          100,
          100
         ],
         "z": [
          100,
          100
         ]
        },
        {
         "color": "#EB663B",
         "flatshading": true,
         "i": [
          1,
          2,
          5,
          6,
          1,
          4,
          3,
          6,
          1,
          7,
          0,
          6
         ],
         "j": [
          0,
          3,
          4,
          7,
          0,
          5,
          2,
          7,
          3,
          5,
          2,
          4
         ],
         "k": [
          2,
          1,
          6,
          5,
          4,
          1,
          6,
          3,
          7,
          1,
          6,
          0
         ],
         "opacity": 1,
         "type": "mesh3d",
         "x": [
          31,
          35,
          31,
          35,
          31,
          35,
          31,
          35
         ],
         "y": [
          37,
          37,
          39,
          39,
          37,
          37,
          39,
          39
         ],
         "z": [
          0,
          0,
          0,
          0,
          43,
          43,
          43,
          43
         ]
        },
        {
         "line": {
          "color": "black",
          "width": 0
         },
         "mode": "lines",
         "type": "scatter3d",
         "x": [
          31,
          35
         ],
         "y": [
          39,
          39
         ],
         "z": [
          43,
          43
         ]
        },
        {
         "color": "#6C4516",
         "flatshading": true,
         "i": [
          1,
          2,
          5,
          6,
          1,
          4,
          3,
          6,
          1,
          7,
          0,
          6
         ],
         "j": [
          0,
          3,
          4,
          7,
          0,
          5,
          2,
          7,
          3,
          5,
          2,
          4
         ],
         "k": [
          2,
          1,
          6,
          5,
          4,
          1,
          6,
          3,
          7,
          1,
          6,
          0
         ],
         "opacity": 1,
         "type": "mesh3d",
         "x": [
          25,
          42,
          25,
          42,
          25,
          42,
          25,
          42
         ],
         "y": [
          89,
          89,
          90,
          90,
          89,
          89,
          90,
          90
         ],
         "z": [
          0,
          0,
          0,
          0,
          100,
          100,
          100,
          100
         ]
        },
        {
         "line": {
          "color": "black",
          "width": 0
         },
         "mode": "lines",
         "type": "scatter3d",
         "x": [
          25,
          42
         ],
         "y": [
          90,
          90
         ],
         "z": [
          100,
          100
         ]
        },
        {
         "color": "#6C7C32",
         "flatshading": true,
         "i": [
          1,
          2,
          5,
          6,
          1,
          4,
          3,
          6,
          1,
          7,
          0,
          6
         ],
         "j": [
          0,
          3,
          4,
          7,
          0,
          5,
          2,
          7,
          3,
          5,
          2,
          4
         ],
         "k": [
          2,
          1,
          6,
          5,
          4,
          1,
          6,
          3,
          7,
          1,
          6,
          0
         ],
         "opacity": 1,
         "type": "mesh3d",
         "x": [
          94,
          97,
          94,
          97,
          94,
          97,
          94,
          97
         ],
         "y": [
          54,
          54,
          60,
          60,
          54,
          54,
          60,
          60
         ],
         "z": [
          0,
          0,
          0,
          0,
          15,
          15,
          15,
          15
         ]
        },
        {
         "line": {
          "color": "black",
          "width": 0
         },
         "mode": "lines",
         "type": "scatter3d",
         "x": [
          94,
          97
         ],
         "y": [
          60,
          60
         ],
         "z": [
          15,
          15
         ]
        },
        {
         "color": "#AF0038",
         "flatshading": true,
         "i": [
          1,
          2,
          5,
          6,
          1,
          4,
          3,
          6,
          1,
          7,
          0,
          6
         ],
         "j": [
          0,
          3,
          4,
          7,
          0,
          5,
          2,
          7,
          3,
          5,
          2,
          4
         ],
         "k": [
          2,
          1,
          6,
          5,
          4,
          1,
          6,
          3,
          7,
          1,
          6,
          0
         ],
         "opacity": 1,
         "type": "mesh3d",
         "x": [
          44,
          45,
          44,
          45,
          44,
          45,
          44,
          45
         ],
         "y": [
          48,
          48,
          57,
          57,
          48,
          48,
          57,
          57
         ],
         "z": [
          0,
          0,
          0,
          0,
          100,
          100,
          100,
          100
         ]
        },
        {
         "line": {
          "color": "black",
          "width": 0
         },
         "mode": "lines",
         "type": "scatter3d",
         "x": [
          44,
          45
         ],
         "y": [
          57,
          57
         ],
         "z": [
          100,
          100
         ]
        },
        {
         "color": "#EB663B",
         "flatshading": true,
         "i": [
          1,
          2,
          5,
          6,
          1,
          4,
          3,
          6,
          1,
          7,
          0,
          6
         ],
         "j": [
          0,
          3,
          4,
          7,
          0,
          5,
          2,
          7,
          3,
          5,
          2,
          4
         ],
         "k": [
          2,
          1,
          6,
          5,
          4,
          1,
          6,
          3,
          7,
          1,
          6,
          0
         ],
         "opacity": 1,
         "type": "mesh3d",
         "x": [
          16,
          18,
          16,
          18,
          16,
          18,
          16,
          18
         ],
         "y": [
          25,
          25,
          35,
          35,
          25,
          25,
          35,
          35
         ],
         "z": [
          0,
          0,
          0,
          0,
          14,
          14,
          14,
          14
         ]
        },
        {
         "line": {
          "color": "black",
          "width": 0
         },
         "mode": "lines",
         "type": "scatter3d",
         "x": [
          16,
          18
         ],
         "y": [
          35,
          35
         ],
         "z": [
          14,
          14
         ]
        }
       ],
       "layout": {
        "height": 1200,
        "margin": {
         "b": 10,
         "l": 10,
         "r": 20,
         "t": 10
        },
        "scene": {
         "aspectmode": "cube",
         "camera": {
          "center": {
           "x": 0,
           "y": 0,
           "z": 0
          },
          "eye": {
           "x": 1.25,
           "y": 1.25,
           "z": 1.25
          },
          "up": {
           "x": 0,
           "y": 0,
           "z": 1
          }
         },
         "xaxis": {
          "nticks": 102,
          "range": [
           0,
           105
          ],
          "showgrid": false,
          "showticklabels": false
         },
         "yaxis": {
          "nticks": 102,
          "range": [
           0,
           105
          ],
          "showgrid": false,
          "showticklabels": false
         },
         "zaxis": {
          "nticks": 102,
          "range": [
           0,
           105
          ],
          "showgrid": false,
          "showticklabels": false
         }
        },
        "showlegend": false,
        "template": {
         "data": {
          "bar": [
           {
            "error_x": {
             "color": "#f2f5fa"
            },
            "error_y": {
             "color": "#f2f5fa"
            },
            "marker": {
             "line": {
              "color": "rgb(17,17,17)",
              "width": 0.5
             },
             "pattern": {
              "fillmode": "overlay",
              "size": 10,
              "solidity": 0.2
             }
            },
            "type": "bar"
           }
          ],
          "barpolar": [
           {
            "marker": {
             "line": {
              "color": "rgb(17,17,17)",
              "width": 0.5
             },
             "pattern": {
              "fillmode": "overlay",
              "size": 10,
              "solidity": 0.2
             }
            },
            "type": "barpolar"
           }
          ],
          "carpet": [
           {
            "aaxis": {
             "endlinecolor": "#A2B1C6",
             "gridcolor": "#506784",
             "linecolor": "#506784",
             "minorgridcolor": "#506784",
             "startlinecolor": "#A2B1C6"
            },
            "baxis": {
             "endlinecolor": "#A2B1C6",
             "gridcolor": "#506784",
             "linecolor": "#506784",
             "minorgridcolor": "#506784",
             "startlinecolor": "#A2B1C6"
            },
            "type": "carpet"
           }
          ],
          "choropleth": [
           {
            "colorbar": {
             "outlinewidth": 0,
             "ticks": ""
            },
            "type": "choropleth"
           }
          ],
          "contour": [
           {
            "colorbar": {
             "outlinewidth": 0,
             "ticks": ""
            },
            "colorscale": [
             [
              0,
              "#0d0887"
             ],
             [
              0.1111111111111111,
              "#46039f"
             ],
             [
              0.2222222222222222,
              "#7201a8"
             ],
             [
              0.3333333333333333,
              "#9c179e"
             ],
             [
              0.4444444444444444,
              "#bd3786"
             ],
             [
              0.5555555555555556,
              "#d8576b"
             ],
             [
              0.6666666666666666,
              "#ed7953"
             ],
             [
              0.7777777777777778,
              "#fb9f3a"
             ],
             [
              0.8888888888888888,
              "#fdca26"
             ],
             [
              1,
              "#f0f921"
             ]
            ],
            "type": "contour"
           }
          ],
          "contourcarpet": [
           {
            "colorbar": {
             "outlinewidth": 0,
             "ticks": ""
            },
            "type": "contourcarpet"
           }
          ],
          "heatmap": [
           {
            "colorbar": {
             "outlinewidth": 0,
             "ticks": ""
            },
            "colorscale": [
             [
              0,
              "#0d0887"
             ],
             [
              0.1111111111111111,
              "#46039f"
             ],
             [
              0.2222222222222222,
              "#7201a8"
             ],
             [
              0.3333333333333333,
              "#9c179e"
             ],
             [
              0.4444444444444444,
              "#bd3786"
             ],
             [
              0.5555555555555556,
              "#d8576b"
             ],
             [
              0.6666666666666666,
              "#ed7953"
             ],
             [
              0.7777777777777778,
              "#fb9f3a"
             ],
             [
              0.8888888888888888,
              "#fdca26"
             ],
             [
              1,
              "#f0f921"
             ]
            ],
            "type": "heatmap"
           }
          ],
          "heatmapgl": [
           {
            "colorbar": {
             "outlinewidth": 0,
             "ticks": ""
            },
            "colorscale": [
             [
              0,
              "#0d0887"
             ],
             [
              0.1111111111111111,
              "#46039f"
             ],
             [
              0.2222222222222222,
              "#7201a8"
             ],
             [
              0.3333333333333333,
              "#9c179e"
             ],
             [
              0.4444444444444444,
              "#bd3786"
             ],
             [
              0.5555555555555556,
              "#d8576b"
             ],
             [
              0.6666666666666666,
              "#ed7953"
             ],
             [
              0.7777777777777778,
              "#fb9f3a"
             ],
             [
              0.8888888888888888,
              "#fdca26"
             ],
             [
              1,
              "#f0f921"
             ]
            ],
            "type": "heatmapgl"
           }
          ],
          "histogram": [
           {
            "marker": {
             "pattern": {
              "fillmode": "overlay",
              "size": 10,
              "solidity": 0.2
             }
            },
            "type": "histogram"
           }
          ],
          "histogram2d": [
           {
            "colorbar": {
             "outlinewidth": 0,
             "ticks": ""
            },
            "colorscale": [
             [
              0,
              "#0d0887"
             ],
             [
              0.1111111111111111,
              "#46039f"
             ],
             [
              0.2222222222222222,
              "#7201a8"
             ],
             [
              0.3333333333333333,
              "#9c179e"
             ],
             [
              0.4444444444444444,
              "#bd3786"
             ],
             [
              0.5555555555555556,
              "#d8576b"
             ],
             [
              0.6666666666666666,
              "#ed7953"
             ],
             [
              0.7777777777777778,
              "#fb9f3a"
             ],
             [
              0.8888888888888888,
              "#fdca26"
             ],
             [
              1,
              "#f0f921"
             ]
            ],
            "type": "histogram2d"
           }
          ],
          "histogram2dcontour": [
           {
            "colorbar": {
             "outlinewidth": 0,
             "ticks": ""
            },
            "colorscale": [
             [
              0,
              "#0d0887"
             ],
             [
              0.1111111111111111,
              "#46039f"
             ],
             [
              0.2222222222222222,
              "#7201a8"
             ],
             [
              0.3333333333333333,
              "#9c179e"
             ],
             [
              0.4444444444444444,
              "#bd3786"
             ],
             [
              0.5555555555555556,
              "#d8576b"
             ],
             [
              0.6666666666666666,
              "#ed7953"
             ],
             [
              0.7777777777777778,
              "#fb9f3a"
             ],
             [
              0.8888888888888888,
              "#fdca26"
             ],
             [
              1,
              "#f0f921"
             ]
            ],
            "type": "histogram2dcontour"
           }
          ],
          "mesh3d": [
           {
            "colorbar": {
             "outlinewidth": 0,
             "ticks": ""
            },
            "type": "mesh3d"
           }
          ],
          "parcoords": [
           {
            "line": {
             "colorbar": {
              "outlinewidth": 0,
              "ticks": ""
             }
            },
            "type": "parcoords"
           }
          ],
          "pie": [
           {
            "automargin": true,
            "type": "pie"
           }
          ],
          "scatter": [
           {
            "marker": {
             "line": {
              "color": "#283442"
             }
            },
            "type": "scatter"
           }
          ],
          "scatter3d": [
           {
            "line": {
             "colorbar": {
              "outlinewidth": 0,
              "ticks": ""
             }
            },
            "marker": {
             "colorbar": {
              "outlinewidth": 0,
              "ticks": ""
             }
            },
            "type": "scatter3d"
           }
          ],
          "scattercarpet": [
           {
            "marker": {
             "colorbar": {
              "outlinewidth": 0,
              "ticks": ""
             }
            },
            "type": "scattercarpet"
           }
          ],
          "scattergeo": [
           {
            "marker": {
             "colorbar": {
              "outlinewidth": 0,
              "ticks": ""
             }
            },
            "type": "scattergeo"
           }
          ],
          "scattergl": [
           {
            "marker": {
             "line": {
              "color": "#283442"
             }
            },
            "type": "scattergl"
           }
          ],
          "scattermapbox": [
           {
            "marker": {
             "colorbar": {
              "outlinewidth": 0,
              "ticks": ""
             }
            },
            "type": "scattermapbox"
           }
          ],
          "scatterpolar": [
           {
            "marker": {
             "colorbar": {
              "outlinewidth": 0,
              "ticks": ""
             }
            },
            "type": "scatterpolar"
           }
          ],
          "scatterpolargl": [
           {
            "marker": {
             "colorbar": {
              "outlinewidth": 0,
              "ticks": ""
             }
            },
            "type": "scatterpolargl"
           }
          ],
          "scatterternary": [
           {
            "marker": {
             "colorbar": {
              "outlinewidth": 0,
              "ticks": ""
             }
            },
            "type": "scatterternary"
           }
          ],
          "surface": [
           {
            "colorbar": {
             "outlinewidth": 0,
             "ticks": ""
            },
            "colorscale": [
             [
              0,
              "#0d0887"
             ],
             [
              0.1111111111111111,
              "#46039f"
             ],
             [
              0.2222222222222222,
              "#7201a8"
             ],
             [
              0.3333333333333333,
              "#9c179e"
             ],
             [
              0.4444444444444444,
              "#bd3786"
             ],
             [
              0.5555555555555556,
              "#d8576b"
             ],
             [
              0.6666666666666666,
              "#ed7953"
             ],
             [
              0.7777777777777778,
              "#fb9f3a"
             ],
             [
              0.8888888888888888,
              "#fdca26"
             ],
             [
              1,
              "#f0f921"
             ]
            ],
            "type": "surface"
           }
          ],
          "table": [
           {
            "cells": {
             "fill": {
              "color": "#506784"
             },
             "line": {
              "color": "rgb(17,17,17)"
             }
            },
            "header": {
             "fill": {
              "color": "#2a3f5f"
             },
             "line": {
              "color": "rgb(17,17,17)"
             }
            },
            "type": "table"
           }
          ]
         },
         "layout": {
          "annotationdefaults": {
           "arrowcolor": "#f2f5fa",
           "arrowhead": 0,
           "arrowwidth": 1
          },
          "autotypenumbers": "strict",
          "coloraxis": {
           "colorbar": {
            "outlinewidth": 0,
            "ticks": ""
           }
          },
          "colorscale": {
           "diverging": [
            [
             0,
             "#8e0152"
            ],
            [
             0.1,
             "#c51b7d"
            ],
            [
             0.2,
             "#de77ae"
            ],
            [
             0.3,
             "#f1b6da"
            ],
            [
             0.4,
             "#fde0ef"
            ],
            [
             0.5,
             "#f7f7f7"
            ],
            [
             0.6,
             "#e6f5d0"
            ],
            [
             0.7,
             "#b8e186"
            ],
            [
             0.8,
             "#7fbc41"
            ],
            [
             0.9,
             "#4d9221"
            ],
            [
             1,
             "#276419"
            ]
           ],
           "sequential": [
            [
             0,
             "#0d0887"
            ],
            [
             0.1111111111111111,
             "#46039f"
            ],
            [
             0.2222222222222222,
             "#7201a8"
            ],
            [
             0.3333333333333333,
             "#9c179e"
            ],
            [
             0.4444444444444444,
             "#bd3786"
            ],
            [
             0.5555555555555556,
             "#d8576b"
            ],
            [
             0.6666666666666666,
             "#ed7953"
            ],
            [
             0.7777777777777778,
             "#fb9f3a"
            ],
            [
             0.8888888888888888,
             "#fdca26"
            ],
            [
             1,
             "#f0f921"
            ]
           ],
           "sequentialminus": [
            [
             0,
             "#0d0887"
            ],
            [
             0.1111111111111111,
             "#46039f"
            ],
            [
             0.2222222222222222,
             "#7201a8"
            ],
            [
             0.3333333333333333,
             "#9c179e"
            ],
            [
             0.4444444444444444,
             "#bd3786"
            ],
            [
             0.5555555555555556,
             "#d8576b"
            ],
            [
             0.6666666666666666,
             "#ed7953"
            ],
            [
             0.7777777777777778,
             "#fb9f3a"
            ],
            [
             0.8888888888888888,
             "#fdca26"
            ],
            [
             1,
             "#f0f921"
            ]
           ]
          },
          "colorway": [
           "#636efa",
           "#EF553B",
           "#00cc96",
           "#ab63fa",
           "#FFA15A",
           "#19d3f3",
           "#FF6692",
           "#B6E880",
           "#FF97FF",
           "#FECB52"
          ],
          "font": {
           "color": "#f2f5fa"
          },
          "geo": {
           "bgcolor": "rgb(17,17,17)",
           "lakecolor": "rgb(17,17,17)",
           "landcolor": "rgb(17,17,17)",
           "showlakes": true,
           "showland": true,
           "subunitcolor": "#506784"
          },
          "hoverlabel": {
           "align": "left"
          },
          "hovermode": "closest",
          "mapbox": {
           "style": "dark"
          },
          "paper_bgcolor": "rgb(17,17,17)",
          "plot_bgcolor": "rgb(17,17,17)",
          "polar": {
           "angularaxis": {
            "gridcolor": "#506784",
            "linecolor": "#506784",
            "ticks": ""
           },
           "bgcolor": "rgb(17,17,17)",
           "radialaxis": {
            "gridcolor": "#506784",
            "linecolor": "#506784",
            "ticks": ""
           }
          },
          "scene": {
           "xaxis": {
            "backgroundcolor": "rgb(17,17,17)",
            "gridcolor": "#506784",
            "gridwidth": 2,
            "linecolor": "#506784",
            "showbackground": true,
            "ticks": "",
            "zerolinecolor": "#C8D4E3"
           },
           "yaxis": {
            "backgroundcolor": "rgb(17,17,17)",
            "gridcolor": "#506784",
            "gridwidth": 2,
            "linecolor": "#506784",
            "showbackground": true,
            "ticks": "",
            "zerolinecolor": "#C8D4E3"
           },
           "zaxis": {
            "backgroundcolor": "rgb(17,17,17)",
            "gridcolor": "#506784",
            "gridwidth": 2,
            "linecolor": "#506784",
            "showbackground": true,
            "ticks": "",
            "zerolinecolor": "#C8D4E3"
           }
          },
          "shapedefaults": {
           "line": {
            "color": "#f2f5fa"
           }
          },
          "sliderdefaults": {
           "bgcolor": "#C8D4E3",
           "bordercolor": "rgb(17,17,17)",
           "borderwidth": 1,
           "tickwidth": 0
          },
          "ternary": {
           "aaxis": {
            "gridcolor": "#506784",
            "linecolor": "#506784",
            "ticks": ""
           },
           "baxis": {
            "gridcolor": "#506784",
            "linecolor": "#506784",
            "ticks": ""
           },
           "bgcolor": "rgb(17,17,17)",
           "caxis": {
            "gridcolor": "#506784",
            "linecolor": "#506784",
            "ticks": ""
           }
          },
          "title": {
           "x": 0.05
          },
          "updatemenudefaults": {
           "bgcolor": "#506784",
           "borderwidth": 0
          },
          "xaxis": {
           "automargin": true,
           "gridcolor": "#283442",
           "linecolor": "#506784",
           "ticks": "",
           "title": {
            "standoff": 15
           },
           "zerolinecolor": "#283442",
           "zerolinewidth": 2
          },
          "yaxis": {
           "automargin": true,
           "gridcolor": "#283442",
           "linecolor": "#506784",
           "ticks": "",
           "title": {
            "standoff": 15
           },
           "zerolinecolor": "#283442",
           "zerolinewidth": 2
          }
         }
        },
        "width": 1200
       }
      },
      "text/html": [
       "<div>                            <div id=\"58072ad5-fc17-45a8-8cb3-49b0b4486679\" class=\"plotly-graph-div\" style=\"height:1200px; width:1200px;\"></div>            <script type=\"text/javascript\">                require([\"plotly\"], function(Plotly) {                    window.PLOTLYENV=window.PLOTLYENV || {};                                    if (document.getElementById(\"58072ad5-fc17-45a8-8cb3-49b0b4486679\")) {                    Plotly.newPlot(                        \"58072ad5-fc17-45a8-8cb3-49b0b4486679\",                        [{\"line\":{\"color\":\"yellow\",\"width\":3},\"mode\":\"lines\",\"x\":[0,100],\"y\":[0,0],\"z\":[0,0],\"type\":\"scatter3d\"},{\"line\":{\"color\":\"yellow\",\"width\":3},\"mode\":\"lines\",\"x\":[0,0],\"y\":[0,100],\"z\":[0,0],\"type\":\"scatter3d\"},{\"line\":{\"color\":\"yellow\",\"width\":3},\"mode\":\"lines\",\"x\":[0,0],\"y\":[0,0],\"z\":[0,100],\"type\":\"scatter3d\"},{\"line\":{\"color\":\"yellow\",\"width\":3},\"mode\":\"lines\",\"x\":[100,100],\"y\":[0,100],\"z\":[0,0],\"type\":\"scatter3d\"},{\"line\":{\"color\":\"yellow\",\"width\":3},\"mode\":\"lines\",\"x\":[100,100],\"y\":[0,0],\"z\":[0,100],\"type\":\"scatter3d\"},{\"line\":{\"color\":\"yellow\",\"width\":3},\"mode\":\"lines\",\"x\":[0,100],\"y\":[100,100],\"z\":[0,0],\"type\":\"scatter3d\"},{\"line\":{\"color\":\"yellow\",\"width\":3},\"mode\":\"lines\",\"x\":[0,0],\"y\":[100,100],\"z\":[0,100],\"type\":\"scatter3d\"},{\"line\":{\"color\":\"yellow\",\"width\":3},\"mode\":\"lines\",\"x\":[100,100],\"y\":[100,100],\"z\":[0,100],\"type\":\"scatter3d\"},{\"line\":{\"color\":\"yellow\",\"width\":3},\"mode\":\"lines\",\"x\":[0,100],\"y\":[0,0],\"z\":[100,100],\"type\":\"scatter3d\"},{\"line\":{\"color\":\"yellow\",\"width\":3},\"mode\":\"lines\",\"x\":[0,0],\"y\":[0,100],\"z\":[100,100],\"type\":\"scatter3d\"},{\"line\":{\"color\":\"yellow\",\"width\":3},\"mode\":\"lines\",\"x\":[100,100],\"y\":[0,100],\"z\":[100,100],\"type\":\"scatter3d\"},{\"line\":{\"color\":\"yellow\",\"width\":3},\"mode\":\"lines\",\"x\":[0,100],\"y\":[100,100],\"z\":[100,100],\"type\":\"scatter3d\"},{\"color\":\"#EB663B\",\"flatshading\":true,\"i\":[1,2,5,6,1,4,3,6,1,7,0,6],\"j\":[0,3,4,7,0,5,2,7,3,5,2,4],\"k\":[2,1,6,5,4,1,6,3,7,1,6,0],\"opacity\":1,\"x\":[31,35,31,35,31,35,31,35],\"y\":[37,37,39,39,37,37,39,39],\"z\":[0,0,0,0,43,43,43,43],\"type\":\"mesh3d\"},{\"line\":{\"color\":\"black\",\"width\":0},\"mode\":\"lines\",\"x\":[31,35],\"y\":[39,39],\"z\":[43,43],\"type\":\"scatter3d\"},{\"color\":\"#6C4516\",\"flatshading\":true,\"i\":[1,2,5,6,1,4,3,6,1,7,0,6],\"j\":[0,3,4,7,0,5,2,7,3,5,2,4],\"k\":[2,1,6,5,4,1,6,3,7,1,6,0],\"opacity\":1,\"x\":[25,42,25,42,25,42,25,42],\"y\":[89,89,90,90,89,89,90,90],\"z\":[0,0,0,0,100,100,100,100],\"type\":\"mesh3d\"},{\"line\":{\"color\":\"black\",\"width\":0},\"mode\":\"lines\",\"x\":[25,42],\"y\":[90,90],\"z\":[100,100],\"type\":\"scatter3d\"},{\"color\":\"#6C7C32\",\"flatshading\":true,\"i\":[1,2,5,6,1,4,3,6,1,7,0,6],\"j\":[0,3,4,7,0,5,2,7,3,5,2,4],\"k\":[2,1,6,5,4,1,6,3,7,1,6,0],\"opacity\":1,\"x\":[94,97,94,97,94,97,94,97],\"y\":[54,54,60,60,54,54,60,60],\"z\":[0,0,0,0,15,15,15,15],\"type\":\"mesh3d\"},{\"line\":{\"color\":\"black\",\"width\":0},\"mode\":\"lines\",\"x\":[94,97],\"y\":[60,60],\"z\":[15,15],\"type\":\"scatter3d\"},{\"color\":\"#AF0038\",\"flatshading\":true,\"i\":[1,2,5,6,1,4,3,6,1,7,0,6],\"j\":[0,3,4,7,0,5,2,7,3,5,2,4],\"k\":[2,1,6,5,4,1,6,3,7,1,6,0],\"opacity\":1,\"x\":[44,45,44,45,44,45,44,45],\"y\":[48,48,57,57,48,48,57,57],\"z\":[0,0,0,0,100,100,100,100],\"type\":\"mesh3d\"},{\"line\":{\"color\":\"black\",\"width\":0},\"mode\":\"lines\",\"x\":[44,45],\"y\":[57,57],\"z\":[100,100],\"type\":\"scatter3d\"},{\"color\":\"#EB663B\",\"flatshading\":true,\"i\":[1,2,5,6,1,4,3,6,1,7,0,6],\"j\":[0,3,4,7,0,5,2,7,3,5,2,4],\"k\":[2,1,6,5,4,1,6,3,7,1,6,0],\"opacity\":1,\"x\":[16,18,16,18,16,18,16,18],\"y\":[25,25,35,35,25,25,35,35],\"z\":[0,0,0,0,14,14,14,14],\"type\":\"mesh3d\"},{\"line\":{\"color\":\"black\",\"width\":0},\"mode\":\"lines\",\"x\":[16,18],\"y\":[35,35],\"z\":[14,14],\"type\":\"scatter3d\"}],                        {\"template\":{\"data\":{\"barpolar\":[{\"marker\":{\"line\":{\"color\":\"rgb(17,17,17)\",\"width\":0.5},\"pattern\":{\"fillmode\":\"overlay\",\"size\":10,\"solidity\":0.2}},\"type\":\"barpolar\"}],\"bar\":[{\"error_x\":{\"color\":\"#f2f5fa\"},\"error_y\":{\"color\":\"#f2f5fa\"},\"marker\":{\"line\":{\"color\":\"rgb(17,17,17)\",\"width\":0.5},\"pattern\":{\"fillmode\":\"overlay\",\"size\":10,\"solidity\":0.2}},\"type\":\"bar\"}],\"carpet\":[{\"aaxis\":{\"endlinecolor\":\"#A2B1C6\",\"gridcolor\":\"#506784\",\"linecolor\":\"#506784\",\"minorgridcolor\":\"#506784\",\"startlinecolor\":\"#A2B1C6\"},\"baxis\":{\"endlinecolor\":\"#A2B1C6\",\"gridcolor\":\"#506784\",\"linecolor\":\"#506784\",\"minorgridcolor\":\"#506784\",\"startlinecolor\":\"#A2B1C6\"},\"type\":\"carpet\"}],\"choropleth\":[{\"colorbar\":{\"outlinewidth\":0,\"ticks\":\"\"},\"type\":\"choropleth\"}],\"contourcarpet\":[{\"colorbar\":{\"outlinewidth\":0,\"ticks\":\"\"},\"type\":\"contourcarpet\"}],\"contour\":[{\"colorbar\":{\"outlinewidth\":0,\"ticks\":\"\"},\"colorscale\":[[0.0,\"#0d0887\"],[0.1111111111111111,\"#46039f\"],[0.2222222222222222,\"#7201a8\"],[0.3333333333333333,\"#9c179e\"],[0.4444444444444444,\"#bd3786\"],[0.5555555555555556,\"#d8576b\"],[0.6666666666666666,\"#ed7953\"],[0.7777777777777778,\"#fb9f3a\"],[0.8888888888888888,\"#fdca26\"],[1.0,\"#f0f921\"]],\"type\":\"contour\"}],\"heatmapgl\":[{\"colorbar\":{\"outlinewidth\":0,\"ticks\":\"\"},\"colorscale\":[[0.0,\"#0d0887\"],[0.1111111111111111,\"#46039f\"],[0.2222222222222222,\"#7201a8\"],[0.3333333333333333,\"#9c179e\"],[0.4444444444444444,\"#bd3786\"],[0.5555555555555556,\"#d8576b\"],[0.6666666666666666,\"#ed7953\"],[0.7777777777777778,\"#fb9f3a\"],[0.8888888888888888,\"#fdca26\"],[1.0,\"#f0f921\"]],\"type\":\"heatmapgl\"}],\"heatmap\":[{\"colorbar\":{\"outlinewidth\":0,\"ticks\":\"\"},\"colorscale\":[[0.0,\"#0d0887\"],[0.1111111111111111,\"#46039f\"],[0.2222222222222222,\"#7201a8\"],[0.3333333333333333,\"#9c179e\"],[0.4444444444444444,\"#bd3786\"],[0.5555555555555556,\"#d8576b\"],[0.6666666666666666,\"#ed7953\"],[0.7777777777777778,\"#fb9f3a\"],[0.8888888888888888,\"#fdca26\"],[1.0,\"#f0f921\"]],\"type\":\"heatmap\"}],\"histogram2dcontour\":[{\"colorbar\":{\"outlinewidth\":0,\"ticks\":\"\"},\"colorscale\":[[0.0,\"#0d0887\"],[0.1111111111111111,\"#46039f\"],[0.2222222222222222,\"#7201a8\"],[0.3333333333333333,\"#9c179e\"],[0.4444444444444444,\"#bd3786\"],[0.5555555555555556,\"#d8576b\"],[0.6666666666666666,\"#ed7953\"],[0.7777777777777778,\"#fb9f3a\"],[0.8888888888888888,\"#fdca26\"],[1.0,\"#f0f921\"]],\"type\":\"histogram2dcontour\"}],\"histogram2d\":[{\"colorbar\":{\"outlinewidth\":0,\"ticks\":\"\"},\"colorscale\":[[0.0,\"#0d0887\"],[0.1111111111111111,\"#46039f\"],[0.2222222222222222,\"#7201a8\"],[0.3333333333333333,\"#9c179e\"],[0.4444444444444444,\"#bd3786\"],[0.5555555555555556,\"#d8576b\"],[0.6666666666666666,\"#ed7953\"],[0.7777777777777778,\"#fb9f3a\"],[0.8888888888888888,\"#fdca26\"],[1.0,\"#f0f921\"]],\"type\":\"histogram2d\"}],\"histogram\":[{\"marker\":{\"pattern\":{\"fillmode\":\"overlay\",\"size\":10,\"solidity\":0.2}},\"type\":\"histogram\"}],\"mesh3d\":[{\"colorbar\":{\"outlinewidth\":0,\"ticks\":\"\"},\"type\":\"mesh3d\"}],\"parcoords\":[{\"line\":{\"colorbar\":{\"outlinewidth\":0,\"ticks\":\"\"}},\"type\":\"parcoords\"}],\"pie\":[{\"automargin\":true,\"type\":\"pie\"}],\"scatter3d\":[{\"line\":{\"colorbar\":{\"outlinewidth\":0,\"ticks\":\"\"}},\"marker\":{\"colorbar\":{\"outlinewidth\":0,\"ticks\":\"\"}},\"type\":\"scatter3d\"}],\"scattercarpet\":[{\"marker\":{\"colorbar\":{\"outlinewidth\":0,\"ticks\":\"\"}},\"type\":\"scattercarpet\"}],\"scattergeo\":[{\"marker\":{\"colorbar\":{\"outlinewidth\":0,\"ticks\":\"\"}},\"type\":\"scattergeo\"}],\"scattergl\":[{\"marker\":{\"line\":{\"color\":\"#283442\"}},\"type\":\"scattergl\"}],\"scattermapbox\":[{\"marker\":{\"colorbar\":{\"outlinewidth\":0,\"ticks\":\"\"}},\"type\":\"scattermapbox\"}],\"scatterpolargl\":[{\"marker\":{\"colorbar\":{\"outlinewidth\":0,\"ticks\":\"\"}},\"type\":\"scatterpolargl\"}],\"scatterpolar\":[{\"marker\":{\"colorbar\":{\"outlinewidth\":0,\"ticks\":\"\"}},\"type\":\"scatterpolar\"}],\"scatter\":[{\"marker\":{\"line\":{\"color\":\"#283442\"}},\"type\":\"scatter\"}],\"scatterternary\":[{\"marker\":{\"colorbar\":{\"outlinewidth\":0,\"ticks\":\"\"}},\"type\":\"scatterternary\"}],\"surface\":[{\"colorbar\":{\"outlinewidth\":0,\"ticks\":\"\"},\"colorscale\":[[0.0,\"#0d0887\"],[0.1111111111111111,\"#46039f\"],[0.2222222222222222,\"#7201a8\"],[0.3333333333333333,\"#9c179e\"],[0.4444444444444444,\"#bd3786\"],[0.5555555555555556,\"#d8576b\"],[0.6666666666666666,\"#ed7953\"],[0.7777777777777778,\"#fb9f3a\"],[0.8888888888888888,\"#fdca26\"],[1.0,\"#f0f921\"]],\"type\":\"surface\"}],\"table\":[{\"cells\":{\"fill\":{\"color\":\"#506784\"},\"line\":{\"color\":\"rgb(17,17,17)\"}},\"header\":{\"fill\":{\"color\":\"#2a3f5f\"},\"line\":{\"color\":\"rgb(17,17,17)\"}},\"type\":\"table\"}]},\"layout\":{\"annotationdefaults\":{\"arrowcolor\":\"#f2f5fa\",\"arrowhead\":0,\"arrowwidth\":1},\"autotypenumbers\":\"strict\",\"coloraxis\":{\"colorbar\":{\"outlinewidth\":0,\"ticks\":\"\"}},\"colorscale\":{\"diverging\":[[0,\"#8e0152\"],[0.1,\"#c51b7d\"],[0.2,\"#de77ae\"],[0.3,\"#f1b6da\"],[0.4,\"#fde0ef\"],[0.5,\"#f7f7f7\"],[0.6,\"#e6f5d0\"],[0.7,\"#b8e186\"],[0.8,\"#7fbc41\"],[0.9,\"#4d9221\"],[1,\"#276419\"]],\"sequential\":[[0.0,\"#0d0887\"],[0.1111111111111111,\"#46039f\"],[0.2222222222222222,\"#7201a8\"],[0.3333333333333333,\"#9c179e\"],[0.4444444444444444,\"#bd3786\"],[0.5555555555555556,\"#d8576b\"],[0.6666666666666666,\"#ed7953\"],[0.7777777777777778,\"#fb9f3a\"],[0.8888888888888888,\"#fdca26\"],[1.0,\"#f0f921\"]],\"sequentialminus\":[[0.0,\"#0d0887\"],[0.1111111111111111,\"#46039f\"],[0.2222222222222222,\"#7201a8\"],[0.3333333333333333,\"#9c179e\"],[0.4444444444444444,\"#bd3786\"],[0.5555555555555556,\"#d8576b\"],[0.6666666666666666,\"#ed7953\"],[0.7777777777777778,\"#fb9f3a\"],[0.8888888888888888,\"#fdca26\"],[1.0,\"#f0f921\"]]},\"colorway\":[\"#636efa\",\"#EF553B\",\"#00cc96\",\"#ab63fa\",\"#FFA15A\",\"#19d3f3\",\"#FF6692\",\"#B6E880\",\"#FF97FF\",\"#FECB52\"],\"font\":{\"color\":\"#f2f5fa\"},\"geo\":{\"bgcolor\":\"rgb(17,17,17)\",\"lakecolor\":\"rgb(17,17,17)\",\"landcolor\":\"rgb(17,17,17)\",\"showlakes\":true,\"showland\":true,\"subunitcolor\":\"#506784\"},\"hoverlabel\":{\"align\":\"left\"},\"hovermode\":\"closest\",\"mapbox\":{\"style\":\"dark\"},\"paper_bgcolor\":\"rgb(17,17,17)\",\"plot_bgcolor\":\"rgb(17,17,17)\",\"polar\":{\"angularaxis\":{\"gridcolor\":\"#506784\",\"linecolor\":\"#506784\",\"ticks\":\"\"},\"bgcolor\":\"rgb(17,17,17)\",\"radialaxis\":{\"gridcolor\":\"#506784\",\"linecolor\":\"#506784\",\"ticks\":\"\"}},\"scene\":{\"xaxis\":{\"backgroundcolor\":\"rgb(17,17,17)\",\"gridcolor\":\"#506784\",\"gridwidth\":2,\"linecolor\":\"#506784\",\"showbackground\":true,\"ticks\":\"\",\"zerolinecolor\":\"#C8D4E3\"},\"yaxis\":{\"backgroundcolor\":\"rgb(17,17,17)\",\"gridcolor\":\"#506784\",\"gridwidth\":2,\"linecolor\":\"#506784\",\"showbackground\":true,\"ticks\":\"\",\"zerolinecolor\":\"#C8D4E3\"},\"zaxis\":{\"backgroundcolor\":\"rgb(17,17,17)\",\"gridcolor\":\"#506784\",\"gridwidth\":2,\"linecolor\":\"#506784\",\"showbackground\":true,\"ticks\":\"\",\"zerolinecolor\":\"#C8D4E3\"}},\"shapedefaults\":{\"line\":{\"color\":\"#f2f5fa\"}},\"sliderdefaults\":{\"bgcolor\":\"#C8D4E3\",\"bordercolor\":\"rgb(17,17,17)\",\"borderwidth\":1,\"tickwidth\":0},\"ternary\":{\"aaxis\":{\"gridcolor\":\"#506784\",\"linecolor\":\"#506784\",\"ticks\":\"\"},\"baxis\":{\"gridcolor\":\"#506784\",\"linecolor\":\"#506784\",\"ticks\":\"\"},\"bgcolor\":\"rgb(17,17,17)\",\"caxis\":{\"gridcolor\":\"#506784\",\"linecolor\":\"#506784\",\"ticks\":\"\"}},\"title\":{\"x\":0.05},\"updatemenudefaults\":{\"bgcolor\":\"#506784\",\"borderwidth\":0},\"xaxis\":{\"automargin\":true,\"gridcolor\":\"#283442\",\"linecolor\":\"#506784\",\"ticks\":\"\",\"title\":{\"standoff\":15},\"zerolinecolor\":\"#283442\",\"zerolinewidth\":2},\"yaxis\":{\"automargin\":true,\"gridcolor\":\"#283442\",\"linecolor\":\"#506784\",\"ticks\":\"\",\"title\":{\"standoff\":15},\"zerolinecolor\":\"#283442\",\"zerolinewidth\":2}}},\"scene\":{\"camera\":{\"up\":{\"x\":0,\"y\":0,\"z\":1},\"center\":{\"x\":0,\"y\":0,\"z\":0},\"eye\":{\"x\":1.25,\"y\":1.25,\"z\":1.25}},\"xaxis\":{\"nticks\":102,\"range\":[0,105],\"showgrid\":false,\"showticklabels\":false},\"yaxis\":{\"nticks\":102,\"range\":[0,105],\"showgrid\":false,\"showticklabels\":false},\"zaxis\":{\"nticks\":102,\"range\":[0,105],\"showgrid\":false,\"showticklabels\":false},\"aspectmode\":\"cube\"},\"showlegend\":false,\"width\":1200,\"height\":1200,\"margin\":{\"r\":20,\"l\":10,\"b\":10,\"t\":10}},                        {\"responsive\": true}                    ).then(function(){\n",
       "                            \n",
       "var gd = document.getElementById('58072ad5-fc17-45a8-8cb3-49b0b4486679');\n",
       "var x = new MutationObserver(function (mutations, observer) {{\n",
       "        var display = window.getComputedStyle(gd).display;\n",
       "        if (!display || display === 'none') {{\n",
       "            console.log([gd, 'removed!']);\n",
       "            Plotly.purge(gd);\n",
       "            observer.disconnect();\n",
       "        }}\n",
       "}});\n",
       "\n",
       "// Listen for the removal of the full notebook cells\n",
       "var notebookContainer = gd.closest('#notebook-container');\n",
       "if (notebookContainer) {{\n",
       "    x.observe(notebookContainer, {childList: true});\n",
       "}}\n",
       "\n",
       "// Listen for the clearing of the current output cell\n",
       "var outputEl = gd.closest('.output');\n",
       "if (outputEl) {{\n",
       "    x.observe(outputEl, {childList: true});\n",
       "}}\n",
       "\n",
       "                        })                };                });            </script>        </div>"
      ]
     },
     "metadata": {},
     "output_type": "display_data"
    }
   ],
   "source": [
    "from plotly_gif import GIF\n",
    "import tqdm\n",
    "gif = GIF(gif_name=\"random_rollout2.gif\", gif_path=\"/hdd/junxuanl/ML-proj-BPP/gifs\")\n",
    "\n",
    "box_size,t=boxes_generator([100, 100, 100])\n",
    "#Environment initialization\n",
    "\n",
    "env = make(\n",
    "        \"PackingEnv-v0\",\n",
    "        container_size=[100, 100, 100],\n",
    "        box_sizes=box_size,\n",
    "        num_visible_boxes=1,\n",
    "        random_boxes=True,\n",
    "    )\n",
    "obs = env.reset()\n",
    "\n",
    "# Rollout of random actions\n",
    "for step_num in tqdm.tqdm(range(80)):\n",
    "\n",
    "    action_mask = env.action_masks()\n",
    "    action = env.action_space.sample(mask=action_mask)\n",
    "    obs, reward, done, info = env.step(action)\n",
    "    if done:\n",
    "        break\n",
    "\n",
    "print(len(env.initial_boxes))\n",
    "print(len(env.container.boxes))\n",
    "fig = env.container.plot()\n",
    "fig.show()\n"
   ]
  },
  {
   "cell_type": "code",
   "execution_count": null,
   "metadata": {
    "collapsed": false,
    "pycharm": {
     "name": "#%%\n"
    }
   },
   "outputs": [],
   "source": []
  }
 ],
 "metadata": {
  "kernelspec": {
   "display_name": "binpacking",
   "language": "python",
   "name": "python3"
  },
  "language_info": {
   "codemirror_mode": {
    "name": "ipython",
    "version": 3
   },
   "file_extension": ".py",
   "mimetype": "text/x-python",
   "name": "python",
   "nbconvert_exporter": "python",
   "pygments_lexer": "ipython3",
   "version": "3.8.20"
  }
 },
 "nbformat": 4,
 "nbformat_minor": 0
}
